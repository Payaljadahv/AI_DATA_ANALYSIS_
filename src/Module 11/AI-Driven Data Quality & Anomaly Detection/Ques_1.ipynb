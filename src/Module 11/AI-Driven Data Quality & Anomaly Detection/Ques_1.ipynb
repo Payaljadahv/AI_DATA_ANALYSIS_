{
 "cells": [
  {
   "cell_type": "markdown",
   "metadata": {},
   "source": [
    "# Automated Anomaly Detection\n",
    "**Objective**: Understand and practice automated anomaly detection using various techniques.\n",
    "\n",
    "**Task**: Automated Anomaly Detection using Z-score method\n",
    "\n",
    "**Steps**:\n",
    "1. Data Set: Download a dataset representing daily sales figures for a retail store.\n",
    "2. Calculate Z-score: Compute the mean and standard deviation of the sales. Use these to\n",
    "calculate the Z-score for each day's sales figure.\n",
    "3. Identify Anomalies: Detect anomalies by identifying values with a Z-score above 3 or below -3.\n",
    "4. Visualize: Plot a graph to visualize anomalies."
   ]
  },
  {
   "cell_type": "code",
   "execution_count": 1,
   "metadata": {},
   "outputs": [
    {
     "name": "stdout",
     "output_type": "stream",
     "text": [
      "   day       sales\n",
      "0    1  209.934283\n",
      "1    2  197.234714\n",
      "2    3  212.953771\n",
      "3    4  230.460597\n",
      "4    5  195.316933\n",
      "    day  sales   z_score  anomaly\n",
      "10   11  400.0  4.567332        1\n",
      "50   51  450.0  5.738104        1\n",
      "95   96  420.0  5.035641        1\n"
     ]
    }
   ],
   "source": [
    "import pandas as pd\n",
    "import numpy as np\n",
    "\n",
    "# Simulate 100 days of sales data with a few outliers\n",
    "np.random.seed(42)\n",
    "sales = np.random.normal(loc=200, scale=20, size=100)\n",
    "sales[[10, 50, 95]] = [400, 450, 420]  # injected anomalies\n",
    "\n",
    "# Create DataFrame\n",
    "df = pd.DataFrame({'day': range(1, 101), 'sales': sales})\n",
    "\n",
    "print(df.head())\n",
    "# Calculate mean and standard deviation\n",
    "mean_sales = df['sales'].mean()\n",
    "std_sales = df['sales'].std()\n",
    "\n",
    "# Compute Z-score\n",
    "df['z_score'] = (df['sales'] - mean_sales) / std_sales\n",
    "# Label anomalies\n",
    "df['anomaly'] = df['z_score'].apply(lambda x: 1 if np.abs(x) > 3 else 0)\n",
    "\n",
    "# View anomalies\n",
    "print(df[df['anomaly'] == 1])\n"
   ]
  },
  {
   "cell_type": "code",
   "execution_count": null,
   "metadata": {},
   "outputs": [],
   "source": []
  },
  {
   "cell_type": "code",
   "execution_count": null,
   "metadata": {},
   "outputs": [],
   "source": []
  }
 ],
 "metadata": {
  "kernelspec": {
   "display_name": "Python 3",
   "language": "python",
   "name": "python3"
  },
  "language_info": {
   "codemirror_mode": {
    "name": "ipython",
    "version": 3
   },
   "file_extension": ".py",
   "mimetype": "text/x-python",
   "name": "python",
   "nbconvert_exporter": "python",
   "pygments_lexer": "ipython3",
   "version": "3.10.12"
  }
 },
 "nbformat": 4,
 "nbformat_minor": 2
}
