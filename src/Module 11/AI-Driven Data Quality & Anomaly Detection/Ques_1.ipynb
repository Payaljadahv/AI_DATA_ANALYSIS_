{
 "cells": [
  {
   "cell_type": "markdown",
   "metadata": {},
   "source": [
    "# Automated Anomaly Detection\n",
    "**Objective**: Understand and practice automated anomaly detection using various techniques.\n",
    "\n",
    "**Task**: Automated Anomaly Detection using Z-score method\n",
    "\n",
    "**Steps**:\n",
    "1. Data Set: Download a dataset representing daily sales figures for a retail store.\n",
    "2. Calculate Z-score: Compute the mean and standard deviation of the sales. Use these to\n",
    "calculate the Z-score for each day's sales figure.\n",
    "3. Identify Anomalies: Detect anomalies by identifying values with a Z-score above 3 or below -3.\n",
    "4. Visualize: Plot a graph to visualize anomalies."
   ]
  },
  {
   "cell_type": "code",
   "execution_count": null,
   "metadata": {},
   "outputs": [],
   "source": [
    "# write your code from here"
   ]
  },
  {
   "cell_type": "code",
   "execution_count": null,
   "metadata": {},
   "outputs": [],
   "source": []
  },
  {
   "cell_type": "code",
   "execution_count": null,
   "metadata": {},
   "outputs": [],
   "source": []
  }
 ],
 "metadata": {
  "kernelspec": {
   "display_name": "base",
   "language": "python",
   "name": "python3"
  },
  "language_info": {
   "name": "python",
   "version": "3.12.7"
  }
 },
 "nbformat": 4,
 "nbformat_minor": 2
}
