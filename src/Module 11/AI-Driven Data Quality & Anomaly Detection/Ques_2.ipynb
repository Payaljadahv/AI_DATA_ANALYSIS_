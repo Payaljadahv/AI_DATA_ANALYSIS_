{
 "cells": [
  {
   "cell_type": "markdown",
   "metadata": {},
   "source": [
    "# Automated Anomaly Detection\n",
    "**Objective**: Understand and practice automated anomaly detection using various techniques.\n",
    "\n",
    "**Task**: Anomaly Detection with Isolation Forest\n",
    "\n",
    "**Steps**:\n",
    "1. Data Set: Obtain a dataset of server response times.\n",
    "2. Train Model: Use Isolation Forest to train a model on the response time data.\n",
    "3. Detect Anomalies: Predict which response times are anomalies.\n",
    "4. Evaluate Results: Assess the number of anomalies detected."
   ]
  },
  {
   "cell_type": "code",
   "execution_count": 1,
   "metadata": {},
   "outputs": [
    {
     "name": "stdout",
     "output_type": "stream",
     "text": [
      "   response_time_ms\n",
      "0        214.901425\n",
      "1        195.852071\n",
      "2        219.430656\n",
      "3        245.690896\n",
      "4        192.975399\n",
      "      response_time_ms  anomaly anomaly_label\n",
      "990         206.251484        1        Normal\n",
      "991         138.747954        1        Normal\n",
      "992         192.584679        1        Normal\n",
      "993         179.540473        1        Normal\n",
      "994         169.951400        1        Normal\n",
      "995         191.566991        1        Normal\n",
      "996         253.930596        1        Normal\n",
      "997         219.225286        1        Normal\n",
      "998         182.864630        1        Normal\n",
      "999         217.177483        1        Normal\n",
      "1000        433.496516       -1       Anomaly\n",
      "1001        420.913568       -1       Anomaly\n",
      "1002        527.286050       -1       Anomaly\n",
      "1003        541.295145       -1       Anomaly\n",
      "1004        406.317229       -1       Anomaly\n",
      "1005        587.242449       -1       Anomaly\n",
      "1006        410.394257       -1       Anomaly\n",
      "1007        508.259267       -1       Anomaly\n",
      "1008        541.812104       -1       Anomaly\n",
      "1009        574.193825       -1       Anomaly\n",
      "1010        542.817386       -1       Anomaly\n",
      "1011        560.345617       -1       Anomaly\n",
      "1012        467.890039       -1       Anomaly\n",
      "1013        562.965023       -1       Anomaly\n",
      "1014        416.022969       -1       Anomaly\n",
      "1015        578.963331       -1       Anomaly\n",
      "1016        509.518475       -1       Anomaly\n",
      "1017        563.459554       -1       Anomaly\n",
      "1018        490.463657       -1       Anomaly\n",
      "1019        528.715539       -1       Anomaly\n",
      "Number of anomalies detected: 21\n"
     ]
    }
   ],
   "source": [
    "import pandas as pd\n",
    "import numpy as np\n",
    "\n",
    "# Simulate server response time data (in milliseconds)\n",
    "np.random.seed(42)\n",
    "normal_response = np.random.normal(loc=200, scale=30, size=1000)\n",
    "anomalies = np.random.uniform(low=400, high=600, size=20)  # injected anomalies\n",
    "\n",
    "response_times = np.concatenate([normal_response, anomalies])\n",
    "df = pd.DataFrame({'response_time_ms': response_times})\n",
    "\n",
    "print(df.head())\n",
    "from sklearn.ensemble import IsolationForest\n",
    "\n",
    "# Initialize Isolation Forest\n",
    "iso_forest = IsolationForest(contamination=0.02, random_state=42)\n",
    "\n",
    "# Fit the model\n",
    "iso_forest.fit(df[['response_time_ms']])\n",
    "# Predict anomalies (-1 for anomaly, 1 for normal)\n",
    "df['anomaly'] = iso_forest.predict(df[['response_time_ms']])\n",
    "\n",
    "# Map for readability\n",
    "df['anomaly_label'] = df['anomaly'].map({1: 'Normal', -1: 'Anomaly'})\n",
    "\n",
    "print(df.tail(30))\n",
    "num_anomalies = df[df['anomaly'] == -1].shape[0]\n",
    "print(f\"Number of anomalies detected: {num_anomalies}\")\n",
    "\n"
   ]
  }
 ],
 "metadata": {
  "kernelspec": {
   "display_name": "Python 3",
   "language": "python",
   "name": "python3"
  },
  "language_info": {
   "codemirror_mode": {
    "name": "ipython",
    "version": 3
   },
   "file_extension": ".py",
   "mimetype": "text/x-python",
   "name": "python",
   "nbconvert_exporter": "python",
   "pygments_lexer": "ipython3",
   "version": "3.10.12"
  }
 },
 "nbformat": 4,
 "nbformat_minor": 2
}
