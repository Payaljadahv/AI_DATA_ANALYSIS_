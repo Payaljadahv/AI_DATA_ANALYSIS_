{
 "cells": [
  {
   "cell_type": "markdown",
   "metadata": {},
   "source": [
    "## Isolation Forest for Anomaly Detection\n",
    "**Objective**: Understand and apply the Isolation Forest algorithm to identify anomalies in datasets.\n",
    "\n",
    "### Task: Anomaly Detection in Sensor Data\n",
    "**Steps**:\n",
    "1. Load Dataset\n",
    "2. Feature Selection\n",
    "3. Isolation Forest Implementation\n",
    "4. Plot Results"
   ]
  },
  {
   "cell_type": "code",
   "execution_count": 1,
   "metadata": {},
   "outputs": [
    {
     "name": "stdout",
     "output_type": "stream",
     "text": [
      "   temperature   humidity\n",
      "0    25.993428  58.617357\n",
      "1    26.295377  75.230299\n",
      "2    24.531693  57.658630\n",
      "3    28.158426  67.674347\n",
      "4    24.061051  65.425600\n"
     ]
    }
   ],
   "source": [
    "import pandas as pd\n",
    "import numpy as np\n",
    "\n",
    "# Simulate sensor data (e.g. temperature and humidity)\n",
    "np.random.seed(42)\n",
    "normal_data = np.random.normal(loc=[25, 60], scale=[2, 10], size=(500, 2))  # normal readings\n",
    "anomalies = np.random.uniform(low=[35, 90], high=[45, 100], size=(10, 2))   # abnormal spikes\n",
    "\n",
    "# Combine data\n",
    "sensor_data = np.vstack((normal_data, anomalies))\n",
    "df = pd.DataFrame(sensor_data, columns=['temperature', 'humidity'])\n",
    "\n",
    "print(df.head())\n",
    "features = df[['temperature', 'humidity']]\n",
    "from sklearn.ensemble import IsolationForest\n",
    "\n",
    "# Initialize and fit model\n",
    "iso_forest = IsolationForest(contamination=0.02, random_state=42)\n",
    "df['anomaly'] = iso_forest.fit_predict(features)\n"
   ]
  }
 ],
 "metadata": {
  "kernelspec": {
   "display_name": "Python 3",
   "language": "python",
   "name": "python3"
  },
  "language_info": {
   "codemirror_mode": {
    "name": "ipython",
    "version": 3
   },
   "file_extension": ".py",
   "mimetype": "text/x-python",
   "name": "python",
   "nbconvert_exporter": "python",
   "pygments_lexer": "ipython3",
   "version": "3.10.12"
  }
 },
 "nbformat": 4,
 "nbformat_minor": 2
}
