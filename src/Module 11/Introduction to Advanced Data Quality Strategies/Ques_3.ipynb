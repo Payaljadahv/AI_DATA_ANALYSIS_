{
 "cells": [
  {
   "cell_type": "markdown",
   "metadata": {},
   "source": [
    "### Machine Learning for Data Quality Prediction\n",
    "**Description**: Use a machine learning model to predict data quality issues.\n",
    "\n",
    "**Steps**:\n",
    "1. Create a mock dataset with features and label (quality issue/label: 0: good, 1: issue).\n",
    "2. Train a machine learning model.\n",
    "3. Evaluate the model performance."
   ]
  },
  {
   "cell_type": "code",
   "execution_count": 1,
   "metadata": {},
   "outputs": [
    {
     "name": "stdout",
     "output_type": "stream",
     "text": [
      "=== Confusion Matrix ===\n",
      "[[9 4]\n",
      " [7 0]]\n",
      "\n",
      "=== Classification Report ===\n",
      "              precision    recall  f1-score   support\n",
      "\n",
      "           0       0.56      0.69      0.62        13\n",
      "           1       0.00      0.00      0.00         7\n",
      "\n",
      "    accuracy                           0.45        20\n",
      "   macro avg       0.28      0.35      0.31        20\n",
      "weighted avg       0.37      0.45      0.40        20\n",
      "\n",
      "=== Accuracy: 0.45 ===\n"
     ]
    }
   ],
   "source": [
    "import pandas as pd\n",
    "import numpy as np\n",
    "from sklearn.model_selection import train_test_split\n",
    "from sklearn.ensemble import RandomForestClassifier\n",
    "from sklearn.metrics import classification_report, confusion_matrix, accuracy_score\n",
    "\n",
    "# 1. Create a mock dataset\n",
    "np.random.seed(42)\n",
    "data = {\n",
    "    'missing_values_ratio': np.random.rand(100),         # Fraction of missing values\n",
    "    'duplicates_count': np.random.randint(0, 10, 100),   # Count of duplicate rows\n",
    "    'outlier_score': np.random.rand(100),                # Simulated outlier score\n",
    "    'inconsistent_types': np.random.randint(0, 5, 100),  # Count of type mismatches\n",
    "    'quality_issue': np.random.choice([0, 1], 100, p=[0.7, 0.3])  # 0: good, 1: issue\n",
    "}\n",
    "\n",
    "df = pd.DataFrame(data)\n",
    "\n",
    "# Features and label\n",
    "X = df.drop('quality_issue', axis=1)\n",
    "y = df['quality_issue']\n",
    "\n",
    "# 2. Train a machine learning model\n",
    "X_train, X_test, y_train, y_test = train_test_split(X, y, test_size=0.2, random_state=42)\n",
    "\n",
    "clf = RandomForestClassifier(n_estimators=100, random_state=42)\n",
    "clf.fit(X_train, y_train)\n",
    "\n",
    "# 3. Evaluate the model\n",
    "y_pred = clf.predict(X_test)\n",
    "\n",
    "print(\"=== Confusion Matrix ===\")\n",
    "print(confusion_matrix(y_test, y_pred))\n",
    "\n",
    "print(\"\\n=== Classification Report ===\")\n",
    "print(classification_report(y_test, y_pred))\n",
    "\n",
    "print(f\"=== Accuracy: {accuracy_score(y_test, y_pred):.2f} ===\")\n"
   ]
  }
 ],
 "metadata": {
  "kernelspec": {
   "display_name": "Python 3",
   "language": "python",
   "name": "python3"
  },
  "language_info": {
   "codemirror_mode": {
    "name": "ipython",
    "version": 3
   },
   "file_extension": ".py",
   "mimetype": "text/x-python",
   "name": "python",
   "nbconvert_exporter": "python",
   "pygments_lexer": "ipython3",
   "version": "3.10.12"
  }
 },
 "nbformat": 4,
 "nbformat_minor": 2
}
