{
 "cells": [
  {
   "cell_type": "markdown",
   "metadata": {},
   "source": [
    "### Handling Unstructured Data with Python\n",
    "**Description**: Extract structured data from unstructured text using Python.\n",
    "\n",
    "**Steps**:\n",
    "1. Load and analyze an unstructured text document.\n",
    "2. Extract information using regex."
   ]
  },
  {
   "cell_type": "code",
   "execution_count": 1,
   "metadata": {},
   "outputs": [
    {
     "name": "stdout",
     "output_type": "stream",
     "text": [
      "=== Original Text ===\n",
      "\n",
      "Customer Name: John Doe\n",
      "Email: john.doe@example.com\n",
      "Phone: (123) 456-7890\n",
      "Address: 123 Main St, Springfield, IL 62704\n",
      "Order ID: #A12345\n",
      "Amount: $249.99\n",
      "\n",
      "\n",
      "=== Extracted Structured Data ===\n",
      "Customer Name: John Doe\n",
      "Email: john.doe@example.com\n",
      "Phone: (123) 456-7890\n",
      "Address: 123 Main St, Springfield, IL 62704\n",
      "Order ID: A12345\n",
      "Amount: 249.99\n"
     ]
    }
   ],
   "source": [
    "import re\n",
    "\n",
    "# 1. Load and analyze an unstructured text document\n",
    "text = \"\"\"\n",
    "Customer Name: John Doe\n",
    "Email: john.doe@example.com\n",
    "Phone: (123) 456-7890\n",
    "Address: 123 Main St, Springfield, IL 62704\n",
    "Order ID: #A12345\n",
    "Amount: $249.99\n",
    "\"\"\"\n",
    "\n",
    "print(\"=== Original Text ===\")\n",
    "print(text)\n",
    "\n",
    "# 2. Extract information using regex\n",
    "data = {\n",
    "    \"Customer Name\": re.search(r\"Customer Name:\\s*(.*)\", text).group(1),\n",
    "    \"Email\": re.search(r\"Email:\\s*(.*)\", text).group(1),\n",
    "    \"Phone\": re.search(r\"Phone:\\s*(.*)\", text).group(1),\n",
    "    \"Address\": re.search(r\"Address:\\s*(.*)\", text).group(1),\n",
    "    \"Order ID\": re.search(r\"Order ID:\\s*#(\\w+)\", text).group(1),\n",
    "    \"Amount\": re.search(r\"Amount:\\s*\\$(\\d+\\.\\d{2})\", text).group(1),\n",
    "}\n",
    "\n",
    "print(\"\\n=== Extracted Structured Data ===\")\n",
    "for key, value in data.items():\n",
    "    print(f\"{key}: {value}\")\n"
   ]
  }
 ],
 "metadata": {
  "kernelspec": {
   "display_name": "Python 3",
   "language": "python",
   "name": "python3"
  },
  "language_info": {
   "codemirror_mode": {
    "name": "ipython",
    "version": 3
   },
   "file_extension": ".py",
   "mimetype": "text/x-python",
   "name": "python",
   "nbconvert_exporter": "python",
   "pygments_lexer": "ipython3",
   "version": "3.10.12"
  }
 },
 "nbformat": 4,
 "nbformat_minor": 2
}
