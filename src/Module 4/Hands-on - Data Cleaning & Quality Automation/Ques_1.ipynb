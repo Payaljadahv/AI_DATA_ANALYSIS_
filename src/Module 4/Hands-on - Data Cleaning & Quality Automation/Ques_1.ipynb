{
 "cells": [
  {
   "cell_type": "code",
   "execution_count": 31,
   "metadata": {},
   "outputs": [],
   "source": [
    "# Question 1: Handling Missing Values with Conditional Filling\n",
    "# Description: Fill missing values in a specific column based on a condition from another column.\n",
    "\n"
   ]
  },
  {
   "cell_type": "code",
   "execution_count": 32,
   "metadata": {},
   "outputs": [
    {
     "name": "stdout",
     "output_type": "stream",
     "text": [
      "Original DataFrame:\n",
      "  group  score\n",
      "0     A   95.0\n",
      "1     A    NaN\n",
      "2     B   80.0\n",
      "3     B    NaN\n",
      "4     A    NaN\n",
      "5     B   85.0\n"
     ]
    }
   ],
   "source": [
    "import pandas as pd\n",
    "import numpy as np\n",
    "\n",
    "# Sample dataset\n",
    "data = {\n",
    "    'group': ['A', 'A', 'B', 'B', 'A', 'B'],\n",
    "    'score': [95, np.nan, 80, np.nan, np.nan, 85]\n",
    "}\n",
    "\n",
    "df = pd.DataFrame(data)\n",
    "print(\"Original DataFrame:\")\n",
    "print(df)\n"
   ]
  },
  {
   "cell_type": "code",
   "execution_count": 33,
   "metadata": {},
   "outputs": [],
   "source": [
    "# Question 2: Removing Outliers by Rescaling\n",
    "# Description: Remove outliers by standardizing a numerical column using z-scores.\n",
    "\n"
   ]
  },
  {
   "cell_type": "code",
   "execution_count": 34,
   "metadata": {},
   "outputs": [
    {
     "name": "stdout",
     "output_type": "stream",
     "text": [
      "Original Data:\n",
      "    value\n",
      "0      10\n",
      "1      12\n",
      "2      13\n",
      "3      15\n",
      "4      14\n",
      "5     100\n",
      "6      13\n",
      "7      14\n",
      "8      15\n",
      "9      16\n",
      "10   1000\n",
      "\n",
      "Data after Removing Outliers:\n",
      "   value\n",
      "0     10\n",
      "1     12\n",
      "2     13\n",
      "3     15\n",
      "4     14\n",
      "5    100\n",
      "6     13\n",
      "7     14\n",
      "8     15\n",
      "9     16\n"
     ]
    }
   ],
   "source": [
    "import pandas as pd\n",
    "import numpy as np\n",
    "from scipy import stats\n",
    "\n",
    "# Step 1: Create a sample dataset\n",
    "data = {\n",
    "    'value': [10, 12, 13, 15, 14, 100, 13, 14, 15, 16, 1000]  # 100 and 1000 are likely outliers\n",
    "}\n",
    "\n",
    "df = pd.DataFrame(data)\n",
    "print(\"Original Data:\")\n",
    "print(df)\n",
    "\n",
    "# Step 2: Calculate z-scores\n",
    "df['z_score'] = stats.zscore(df['value'])\n",
    "\n",
    "# Step 3: Filter out rows where the absolute z-score is greater than 3 (commonly used threshold)\n",
    "df_no_outliers = df[df['z_score'].abs() <= 3].copy()\n",
    "\n",
    "# Step 4: Drop the z_score column if no longer needed\n",
    "df_no_outliers.drop(columns='z_score', inplace=True)\n",
    "\n",
    "print(\"\\nData after Removing Outliers:\")\n",
    "print(df_no_outliers)\n"
   ]
  },
  {
   "cell_type": "code",
   "execution_count": 35,
   "metadata": {},
   "outputs": [],
   "source": [
    "# Question 3: Applying Data Type Conversion\n",
    "# Description: Convert the 'Age' column to integers after filling missing values.\n",
    "\n"
   ]
  },
  {
   "cell_type": "code",
   "execution_count": 36,
   "metadata": {},
   "outputs": [
    {
     "name": "stdout",
     "output_type": "stream",
     "text": [
      "Original Data:\n",
      "      Name   Age\n",
      "0    Alice  25.0\n",
      "1      Bob   NaN\n",
      "2  Charlie  30.0\n",
      "3    David   NaN\n",
      "4      Eve  40.0\n",
      "\n",
      "Data After Filling and Converting Age to Integer:\n",
      "      Name  Age\n",
      "0    Alice   25\n",
      "1      Bob   31\n",
      "2  Charlie   30\n",
      "3    David   31\n",
      "4      Eve   40\n"
     ]
    }
   ],
   "source": [
    "import pandas as pd\n",
    "import numpy as np\n",
    "\n",
    "# Step 1: Create a sample DataFrame with missing Age values\n",
    "df = pd.DataFrame({\n",
    "    'Name': ['Alice', 'Bob', 'Charlie', 'David', 'Eve'],\n",
    "    'Age': [25, np.nan, 30, np.nan, 40]\n",
    "})\n",
    "\n",
    "print(\"Original Data:\")\n",
    "print(df)\n",
    "\n",
    "# Step 2: Fill missing Age values (e.g., with the mean age)\n",
    "df['Age'] = df['Age'].fillna(df['Age'].mean())\n",
    "\n",
    "# Step 3: Convert Age to integers\n",
    "df['Age'] = df['Age'].astype(int)\n",
    "\n",
    "print(\"\\nData After Filling and Converting Age to Integer:\")\n",
    "print(df)\n"
   ]
  },
  {
   "cell_type": "code",
   "execution_count": 37,
   "metadata": {},
   "outputs": [],
   "source": [
    "# Question 4: Automating Data Cleaning with Functions\n",
    "# Description: Create a function that automates the process of filling missing values, removing duplicates, and standardizing column names.\n",
    "\n"
   ]
  },
  {
   "cell_type": "code",
   "execution_count": 38,
   "metadata": {},
   "outputs": [],
   "source": [
    "import pandas as pd\n",
    "\n",
    "# Function to clean a DataFrame\n",
    "def clean_data(df, fill_method='mean'):\n",
    "    \"\"\"\n",
    "    Clean a DataFrame by:\n",
    "    1. Filling missing numeric values\n",
    "    2. Removing duplicate rows\n",
    "    3. Standardizing column names\n",
    "    \n",
    "    Parameters:\n",
    "    - df: pandas DataFrame\n",
    "    - fill_method: 'mean', 'median', or 'zero'\n",
    "    \n",
    "    Returns:\n",
    "    - Cleaned pandas DataFrame\n",
    "    \"\"\"\n",
    "    # Standardize column names\n",
    "    df.columns = [col.strip().lower().replace(' ', '_') for col in df.columns]\n",
    "\n",
    "    # Fill missing values for numeric columns\n",
    "    for col in df.select_dtypes(include=['number']).columns:\n",
    "        if fill_method == 'mean':\n",
    "            df[col] = df[col].fillna(df[col].mean())\n",
    "        elif fill_method == 'median':\n",
    "            df[col] = df[col].fillna(df[col].median())\n",
    "        elif fill_method == 'zero':\n",
    "            df[col] = df[col].fillna(0)\n",
    "\n",
    "    # Remove duplicate rows\n",
    "    df = df.drop_duplicates()\n",
    "\n",
    "    return df\n"
   ]
  },
  {
   "cell_type": "code",
   "execution_count": 39,
   "metadata": {},
   "outputs": [],
   "source": [
    "# Question 5: Complex Data Normalization\n",
    "# Description: Normalize a numeric column to a range using min-max scaling.\n",
    "\n"
   ]
  },
  {
   "cell_type": "code",
   "execution_count": 40,
   "metadata": {},
   "outputs": [
    {
     "name": "stdout",
     "output_type": "stream",
     "text": [
      "   salary  normalized_salary\n",
      "0   30000           0.000000\n",
      "1   50000           0.222222\n",
      "2   70000           0.444444\n",
      "3  100000           0.777778\n",
      "4  120000           1.000000\n"
     ]
    }
   ],
   "source": [
    "import pandas as pd\n",
    "\n",
    "# Sample DataFrame\n",
    "df = pd.DataFrame({\n",
    "    'salary': [30000, 50000, 70000, 100000, 120000]\n",
    "})\n",
    "\n",
    "# Min-Max Normalization\n",
    "def min_max_normalize(column):\n",
    "    min_val = column.min()\n",
    "    max_val = column.max()\n",
    "    return (column - min_val) / (max_val - min_val)\n",
    "\n",
    "# Apply normalization to the 'salary' column\n",
    "df['normalized_salary'] = min_max_normalize(df['salary'])\n",
    "\n",
    "print(df)\n"
   ]
  }
 ],
 "metadata": {
  "kernelspec": {
   "display_name": "Python 3",
   "language": "python",
   "name": "python3"
  },
  "language_info": {
   "codemirror_mode": {
    "name": "ipython",
    "version": 3
   },
   "file_extension": ".py",
   "mimetype": "text/x-python",
   "name": "python",
   "nbconvert_exporter": "python",
   "pygments_lexer": "ipython3",
   "version": "3.10.12"
  }
 },
 "nbformat": 4,
 "nbformat_minor": 2
}
