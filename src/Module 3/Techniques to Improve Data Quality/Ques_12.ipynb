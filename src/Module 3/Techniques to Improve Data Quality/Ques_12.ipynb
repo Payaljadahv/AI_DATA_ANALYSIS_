{
 "cells": [
  {
   "cell_type": "markdown",
   "metadata": {},
   "source": [
    "gfhfh"
   ]
  },
  {
   "cell_type": "code",
   "execution_count": 4,
   "metadata": {},
   "outputs": [],
   "source": [
    "# Activity 2: Dealing with Duplicates & Redundancy\n",
    "\n",
    "# Task A: Identifying Duplicate Records\n",
    "\n",
    "# 7. Identify Complete Duplicates:\n",
    "# - Load a dataset and identify duplicated rows.\n",
    "# - Use Pandas to detect duplicates.\n",
    "\n",
    "\n",
    "\n",
    "\n",
    "\n",
    "\n",
    "# 8. Identify Duplicates based on Specific Columns:\n",
    "# - Check for duplicates in specified columns.\n",
    "\n",
    "\n",
    "\n",
    "\n",
    "\n",
    "\n",
    "\n",
    "# 9. Count Duplicate Rows:\n",
    "# - Calculate and print the number of duplicate rows.\n",
    "\n",
    "\n",
    "\n",
    "\n",
    "\n"
   ]
  },
  {
   "cell_type": "code",
   "execution_count": 5,
   "metadata": {},
   "outputs": [
    {
     "name": "stdout",
     "output_type": "stream",
     "text": [
      "Duplicated rows (complete duplicates):\n",
      "   ID   Name  Age\n",
      "2   2    Bob   30\n",
      "5   4  David   40\n",
      "6   4  David   40\n",
      "\n",
      "Duplicated rows based on 'ID' and 'Name':\n",
      "   ID   Name  Age\n",
      "2   2    Bob   30\n",
      "5   4  David   40\n",
      "6   4  David   40\n",
      "\n",
      "Number of complete duplicate rows: 3\n"
     ]
    }
   ],
   "source": [
    "import pandas as pd\n",
    "\n",
    "# Sample data: you can replace this with your actual dataset file (e.g., CSV)\n",
    "data = {\n",
    "    'ID': [1, 2, 2, 3, 4, 4, 4],\n",
    "    'Name': ['Alice', 'Bob', 'Bob', 'Charlie', 'David', 'David', 'David'],\n",
    "    'Age': [25, 30, 30, 35, 40, 40, 40]\n",
    "}\n",
    "df = pd.DataFrame(data)\n",
    "# Detect duplicated rows (all columns)\n",
    "duplicates = df.duplicated()\n",
    "\n",
    "print(\"Duplicated rows (complete duplicates):\")\n",
    "print(df[duplicates])\n",
    "# Check duplicates only based on 'ID' and 'Name' columns\n",
    "duplicates_subset = df.duplicated(subset=['ID', 'Name'])\n",
    "\n",
    "print(\"\\nDuplicated rows based on 'ID' and 'Name':\")\n",
    "print(df[duplicates_subset])\n",
    "# Count total number of complete duplicated rows\n",
    "num_duplicates = duplicates.sum()\n",
    "\n",
    "print(f\"\\nNumber of complete duplicate rows: {num_duplicates}\")\n"
   ]
  },
  {
   "cell_type": "code",
   "execution_count": 6,
   "metadata": {},
   "outputs": [],
   "source": [
    "# Task B: Deduplication Techniques\n",
    "\n",
    "# 10. Remove Complete Duplicates:\n",
    "# - Drop duplicate rows and keep only the first occurrence.\n",
    "\n",
    "\n",
    "\n",
    "\n",
    "\n",
    "\n",
    "# 11. Subset Deduplication:\n",
    "# - Remove duplicates based on a subset of columns.\n",
    "\n",
    "\n",
    "\n",
    "\n",
    "\n",
    "\n",
    "# 12. Keep Last Occurrence:\n",
    "# - Drop duplicates but keep the last occurrence in the dataset.\n",
    "\n",
    "\n",
    "\n",
    "\n",
    "\n"
   ]
  },
  {
   "cell_type": "code",
   "execution_count": 7,
   "metadata": {},
   "outputs": [
    {
     "name": "stdout",
     "output_type": "stream",
     "text": [
      "DataFrame after removing complete duplicates:\n",
      "   ID     Name  Age\n",
      "0   1    Alice   25\n",
      "1   2      Bob   30\n",
      "3   3  Charlie   35\n",
      "4   4    David   40\n",
      "\n",
      "DataFrame after removing duplicates based on 'ID' and 'Name':\n",
      "   ID     Name  Age\n",
      "0   1    Alice   25\n",
      "1   2      Bob   30\n",
      "3   3  Charlie   35\n",
      "4   4    David   40\n",
      "\n",
      "DataFrame after dropping complete duplicates, keeping last occurrence:\n",
      "   ID     Name  Age\n",
      "0   1    Alice   25\n",
      "2   2      Bob   30\n",
      "3   3  Charlie   35\n",
      "6   4    David   40\n"
     ]
    }
   ],
   "source": [
    "import pandas as pd\n",
    "\n",
    "data = {\n",
    "    'ID': [1, 2, 2, 3, 4, 4, 4],\n",
    "    'Name': ['Alice', 'Bob', 'Bob', 'Charlie', 'David', 'David', 'David'],\n",
    "    'Age': [25, 30, 30, 35, 40, 40, 40]\n",
    "}\n",
    "\n",
    "df = pd.DataFrame(data)\n",
    "df_no_duplicates = df.drop_duplicates()\n",
    "\n",
    "print(\"DataFrame after removing complete duplicates:\")\n",
    "print(df_no_duplicates)\n",
    "df_subset_dedup = df.drop_duplicates(subset=['ID', 'Name'])\n",
    "\n",
    "print(\"\\nDataFrame after removing duplicates based on 'ID' and 'Name':\")\n",
    "print(df_subset_dedup)\n",
    "df_keep_last = df.drop_duplicates(keep='last')\n",
    "\n",
    "print(\"\\nDataFrame after dropping complete duplicates, keeping last occurrence:\")\n",
    "print(df_keep_last)\n"
   ]
  }
 ],
 "metadata": {
  "kernelspec": {
   "display_name": "Python 3",
   "language": "python",
   "name": "python3"
  },
  "language_info": {
   "codemirror_mode": {
    "name": "ipython",
    "version": 3
   },
   "file_extension": ".py",
   "mimetype": "text/x-python",
   "name": "python",
   "nbconvert_exporter": "python",
   "pygments_lexer": "ipython3",
   "version": "3.10.12"
  }
 },
 "nbformat": 4,
 "nbformat_minor": 2
}
