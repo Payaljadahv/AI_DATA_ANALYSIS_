{
 "cells": [
  {
   "cell_type": "code",
   "execution_count": 9,
   "metadata": {},
   "outputs": [],
   "source": [
    "# Question: Advanced Deduplication Using Machine Learning\n",
    "# Description: Implement ML-based deduplication based on feature similarity.\n",
    "\n",
    "\n"
   ]
  },
  {
   "cell_type": "code",
   "execution_count": 10,
   "metadata": {},
   "outputs": [
    {
     "name": "stdout",
     "output_type": "stream",
     "text": [
      "WARNING:recordlinkage:indexing - performance warning - A full index can result in large number of record pairs.\n"
     ]
    },
    {
     "ename": "ValueError",
     "evalue": "No labeled pairs match the feature index. Check ID formats and candidate pairs.",
     "output_type": "error",
     "traceback": [
      "\u001b[0;31m---------------------------------------------------------------------------\u001b[0m",
      "\u001b[0;31mValueError\u001b[0m                                Traceback (most recent call last)",
      "Cell \u001b[0;32mIn[10], line 53\u001b[0m\n\u001b[1;32m     51\u001b[0m \u001b[38;5;66;03m# Raise error if no matches (defensive coding)\u001b[39;00m\n\u001b[1;32m     52\u001b[0m \u001b[38;5;28;01mif\u001b[39;00m labels\u001b[38;5;241m.\u001b[39mempty:\n\u001b[0;32m---> 53\u001b[0m     \u001b[38;5;28;01mraise\u001b[39;00m \u001b[38;5;167;01mValueError\u001b[39;00m(\u001b[38;5;124m\"\u001b[39m\u001b[38;5;124mNo labeled pairs match the feature index. Check ID formats and candidate pairs.\u001b[39m\u001b[38;5;124m\"\u001b[39m)\n\u001b[1;32m     55\u001b[0m X \u001b[38;5;241m=\u001b[39m features\u001b[38;5;241m.\u001b[39mloc[labels\u001b[38;5;241m.\u001b[39mindex]\n\u001b[1;32m     56\u001b[0m y \u001b[38;5;241m=\u001b[39m labels\n",
      "\u001b[0;31mValueError\u001b[0m: No labeled pairs match the feature index. Check ID formats and candidate pairs."
     ]
    }
   ],
   "source": [
    "import pandas as pd\n",
    "import recordlinkage\n",
    "from sklearn.ensemble import RandomForestClassifier\n",
    "from sklearn.model_selection import train_test_split\n",
    "\n",
    "# ----------------------------------------\n",
    "# 1. Sample Data\n",
    "# ----------------------------------------\n",
    "data = pd.DataFrame({\n",
    "    'id': [1, 2, 3, 4],\n",
    "    'name': ['John Smith', 'Jon Smith', 'Alice Johnson', 'Alyce Jonson'],\n",
    "    'email': ['john@example.com', 'jon@example.com', 'alicej@gmail.com', 'alycej@gmail.com']\n",
    "})\n",
    "data.set_index('id', inplace=True)\n",
    "\n",
    "# ----------------------------------------\n",
    "# 2. Generate Candidate Pairs\n",
    "# ----------------------------------------\n",
    "indexer = recordlinkage.Index()\n",
    "indexer.full()  # All combinations\n",
    "candidate_pairs = indexer.index(data)\n",
    "\n",
    "# ----------------------------------------\n",
    "# 3. Compare Features\n",
    "# ----------------------------------------\n",
    "compare = recordlinkage.Compare()\n",
    "compare.string('name', 'name', method='jarowinkler', label='name_sim')\n",
    "compare.string('email', 'email', method='jarowinkler', label='email_sim')\n",
    "\n",
    "features = compare.compute(candidate_pairs, data)\n",
    "\n",
    "# ----------------------------------------\n",
    "# 4. Define Labeled Pairs (Known Duplicates/Non-Duplicates)\n",
    "# ----------------------------------------\n",
    "raw_labels = [\n",
    "    ((1, 2), 1),   # John Smith vs Jon Smith = duplicate\n",
    "    ((3, 4), 1),   # Alice Johnson vs Alyce Jonson = duplicate\n",
    "    ((1, 3), 0)    # John Smith vs Alice Johnson = not duplicate\n",
    "]\n",
    "\n",
    "# Normalize labels to match feature index format\n",
    "formatted_labels = {\n",
    "    tuple(sorted(pair)): label for pair, label in raw_labels\n",
    "}\n",
    "\n",
    "labels = pd.Series(formatted_labels)\n",
    "\n",
    "# Keep only labels that exist in features\n",
    "labels = labels[labels.index.isin(features.index)]\n",
    "\n",
    "# Raise error if no matches (defensive coding)\n",
    "if labels.empty:\n",
    "    raise ValueError(\"No labeled pairs match the feature index. Check ID formats and candidate pairs.\")\n",
    "\n",
    "X = features.loc[labels.index]\n",
    "y = labels\n",
    "\n",
    "# ----------------------------------------\n",
    "# 5. Train ML Model\n",
    "# ----------------------------------------\n",
    "X_train, X_test, y_train, y_test = train_test_split(X, y, test_size=0.3, random_state=42)\n",
    "\n",
    "model = RandomForestClassifier(n_estimators=100, random_state=42)\n",
    "model.fit(X_train, y_train)\n",
    "\n",
    "print(f\"Model Accuracy: {model.score(X_test, y_test):.2f}\")\n",
    "\n",
    "# ----------------------------------------\n",
    "# 6. Predict on All Candidate Pairs\n",
    "# ----------------------------------------\n",
    "predictions = model.predict(features)\n",
    "predicted_duplicates = features[predictions == 1]\n",
    "\n",
    "print(\"\\nPredicted Duplicates:\")\n",
    "print(predicted_duplicates)\n"
   ]
  }
 ],
 "metadata": {
  "kernelspec": {
   "display_name": "Python 3",
   "language": "python",
   "name": "python3"
  },
  "language_info": {
   "codemirror_mode": {
    "name": "ipython",
    "version": 3
   },
   "file_extension": ".py",
   "mimetype": "text/x-python",
   "name": "python",
   "nbconvert_exporter": "python",
   "pygments_lexer": "ipython3",
   "version": "3.10.12"
  }
 },
 "nbformat": 4,
 "nbformat_minor": 2
}
