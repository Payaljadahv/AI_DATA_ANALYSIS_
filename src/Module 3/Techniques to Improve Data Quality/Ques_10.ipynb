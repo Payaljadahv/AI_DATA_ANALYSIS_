{
 "cells": [
  {
   "cell_type": "code",
   "execution_count": 3,
   "metadata": {},
   "outputs": [],
   "source": [
    "# Question: Advanced Deduplication Using Machine Learning\n",
    "# Description: Implement ML-based deduplication based on feature similarity.\n",
    "\n",
    "\n"
   ]
  },
  {
   "cell_type": "code",
   "execution_count": 4,
   "metadata": {},
   "outputs": [
    {
     "name": "stdout",
     "output_type": "stream",
     "text": [
      "Total pairs: 6\n",
      "              precision    recall  f1-score   support\n",
      "\n",
      "           0       0.50      1.00      0.67         1\n",
      "           1       0.00      0.00      0.00         1\n",
      "\n",
      "    accuracy                           0.50         2\n",
      "   macro avg       0.25      0.50      0.33         2\n",
      "weighted avg       0.25      0.50      0.33         2\n",
      "\n"
     ]
    },
    {
     "name": "stderr",
     "output_type": "stream",
     "text": [
      "/home/vscode/.local/lib/python3.10/site-packages/sklearn/metrics/_classification.py:1565: UndefinedMetricWarning: Precision is ill-defined and being set to 0.0 in labels with no predicted samples. Use `zero_division` parameter to control this behavior.\n",
      "  _warn_prf(average, modifier, f\"{metric.capitalize()} is\", len(result))\n",
      "/home/vscode/.local/lib/python3.10/site-packages/sklearn/metrics/_classification.py:1565: UndefinedMetricWarning: Precision is ill-defined and being set to 0.0 in labels with no predicted samples. Use `zero_division` parameter to control this behavior.\n",
      "  _warn_prf(average, modifier, f\"{metric.capitalize()} is\", len(result))\n",
      "/home/vscode/.local/lib/python3.10/site-packages/sklearn/metrics/_classification.py:1565: UndefinedMetricWarning: Precision is ill-defined and being set to 0.0 in labels with no predicted samples. Use `zero_division` parameter to control this behavior.\n",
      "  _warn_prf(average, modifier, f\"{metric.capitalize()} is\", len(result))\n"
     ]
    }
   ],
   "source": [
    "import pandas as pd\n",
    "\n",
    "# Example dataset\n",
    "data = pd.DataFrame({\n",
    "    'id': [1, 2, 3, 4],\n",
    "    'name': ['Jon Smith', 'John Smith', 'Alice Brown', 'Alyce Brown'],\n",
    "    'email': ['jon@example.com', 'john.smith@example.com', 'alice.b@example.com', 'alyce.b@example.com'],\n",
    "})\n",
    "from itertools import combinations\n",
    "\n",
    "# Generate candidate pairs (all-vs-all, or use blocking for scale)\n",
    "pairs = list(combinations(data.index, 2))\n",
    "print(f\"Total pairs: {len(pairs)}\")\n",
    "from rapidfuzz import fuzz\n",
    "import numpy as np\n",
    "\n",
    "def compute_features(pair):\n",
    "    i, j = pair\n",
    "    row_i, row_j = data.loc[i], data.loc[j]\n",
    "\n",
    "    features = {\n",
    "        'name_similarity': fuzz.token_sort_ratio(row_i['name'], row_j['name']) / 100,\n",
    "        'email_similarity': fuzz.token_sort_ratio(row_i['email'], row_j['email']) / 100,\n",
    "    }\n",
    "    return features\n",
    "\n",
    "# Build feature matrix\n",
    "X = pd.DataFrame([compute_features(p) for p in pairs])\n",
    "# Simulated labels: 1 = duplicate, 0 = non-duplicate\n",
    "# For real use cases, label manually or with rules\n",
    "y = [1, 0, 1, 0, 0, 0]  # e.g., [1] if names/emails are close\n",
    "from sklearn.ensemble import RandomForestClassifier\n",
    "from sklearn.model_selection import train_test_split\n",
    "\n",
    "X_train, X_test, y_train, y_test = train_test_split(X, y, test_size=0.3)\n",
    "\n",
    "model = RandomForestClassifier()\n",
    "model.fit(X_train, y_train)\n",
    "\n",
    "# Predict probabilities on test\n",
    "probs = model.predict_proba(X_test)[:, 1]\n",
    "from sklearn.metrics import classification_report\n",
    "\n",
    "# Use a threshold to determine duplicates\n",
    "y_pred = (probs > 0.5).astype(int)\n",
    "\n",
    "print(classification_report(y_test, y_pred))\n"
   ]
  }
 ],
 "metadata": {
  "kernelspec": {
   "display_name": "Python 3",
   "language": "python",
   "name": "python3"
  },
  "language_info": {
   "codemirror_mode": {
    "name": "ipython",
    "version": 3
   },
   "file_extension": ".py",
   "mimetype": "text/x-python",
   "name": "python",
   "nbconvert_exporter": "python",
   "pygments_lexer": "ipython3",
   "version": "3.10.12"
  }
 },
 "nbformat": 4,
 "nbformat_minor": 2
}
