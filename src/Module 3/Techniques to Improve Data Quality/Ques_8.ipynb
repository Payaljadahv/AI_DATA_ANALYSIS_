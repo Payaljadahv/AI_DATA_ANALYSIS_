{
 "cells": [
  {
   "cell_type": "code",
   "execution_count": 9,
   "metadata": {},
   "outputs": [],
   "source": [
    "# Question: Data Quality Automation Tools - Introduction to Great Expectations\n",
    "# Description: Set up a simple Great Expectations check for missing values in a numeric column.\n",
    "\n"
   ]
  },
  {
   "cell_type": "code",
   "execution_count": null,
   "metadata": {},
   "outputs": [
    {
     "name": "stdout",
     "output_type": "stream",
     "text": [
      "/bin/bash: line 1: great_expectations: command not found\n"
     ]
    }
   ],
   "source": [
    "!great_expectations init\n",
    "id,value\n",
    "1,100\n",
    "2,\n",
    "3,150\n",
    "4,130\n",
    "5,\n",
    "\n",
    "import pandas as pd\n",
    "from great_expectations.dataset import PandasDataset\n",
    "\n",
    "# Load CSV data\n",
    "df = pd.read_csv(\"data/sample_data.csv\")\n",
    "\n",
    "# Define a custom dataset to add expectations\n",
    "class MyDataset(PandasDataset):\n",
    "    pass\n",
    "\n",
    "# Wrap the DataFrame with Great Expectations\n",
    "ge_df = MyDataset(df)\n",
    "\n",
    "# Add expectation: no missing values in \"value\" column\n",
    "ge_df.expect_column_values_to_not_be_null(\"value\")\n",
    "\n",
    "# Validate and print the result\n",
    "results = ge_df.validate()\n",
    "\n",
    "# Print the full validation result\n",
    "import json\n",
    "print(json.dumps(results, indent=2))\n",
    "\n",
    "python validate_data.py\n"
   ]
  }
 ],
 "metadata": {
  "kernelspec": {
   "display_name": "Python 3",
   "language": "python",
   "name": "python3"
  },
  "language_info": {
   "codemirror_mode": {
    "name": "ipython",
    "version": 3
   },
   "file_extension": ".py",
   "mimetype": "text/x-python",
   "name": "python",
   "nbconvert_exporter": "python",
   "pygments_lexer": "ipython3",
   "version": "3.10.12"
  }
 },
 "nbformat": 4,
 "nbformat_minor": 2
}
