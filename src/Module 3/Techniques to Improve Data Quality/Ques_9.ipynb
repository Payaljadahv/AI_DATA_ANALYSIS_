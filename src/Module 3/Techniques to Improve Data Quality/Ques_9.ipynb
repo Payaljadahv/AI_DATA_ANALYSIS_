{
 "cells": [
  {
   "cell_type": "code",
   "execution_count": 1,
   "metadata": {},
   "outputs": [],
   "source": [
    "# Question: Predictive Imputation Using Machine Learning\n",
    "# Description: Use a simple predictive model to impute missing values in a column.\n",
    "\n"
   ]
  },
  {
   "cell_type": "code",
   "execution_count": 2,
   "metadata": {},
   "outputs": [],
   "source": [
    "import pandas as pd\n",
    "from sklearn.ensemble import RandomForestRegressor\n",
    "from sklearn.model_selection import train_test_split\n",
    "\n",
    "# Sample data\n",
    "data = pd.DataFrame({\n",
    "    'feature1': [1, 2, 3, 4, None],\n",
    "    'feature2': [5, None, 7, 8, 9],\n",
    "    'target': [None, 2, 3, 4, 5]\n",
    "})\n",
    "\n",
    "# Split data into training and testing sets\n",
    "train_data = data[data['target'].notnull()]\n",
    "test_data = data[data['target'].isnull()]\n",
    "\n",
    "# Features and target\n",
    "X_train = train_data[['feature1', 'feature2']]\n",
    "y_train = train_data['target']\n",
    "X_test = test_data[['feature1', 'feature2']]\n",
    "\n",
    "# Train the model\n",
    "model = RandomForestRegressor()\n",
    "model.fit(X_train, y_train)\n",
    "\n",
    "# Predict missing values\n",
    "predicted_values = model.predict(X_test)\n",
    "\n",
    "# Fill in the missing values\n",
    "data.loc[data['target'].isnull(), 'target'] = predicted_values\n"
   ]
  }
 ],
 "metadata": {
  "kernelspec": {
   "display_name": "Python 3",
   "language": "python",
   "name": "python3"
  },
  "language_info": {
   "codemirror_mode": {
    "name": "ipython",
    "version": 3
   },
   "file_extension": ".py",
   "mimetype": "text/x-python",
   "name": "python",
   "nbconvert_exporter": "python",
   "pygments_lexer": "ipython3",
   "version": "3.10.12"
  }
 },
 "nbformat": 4,
 "nbformat_minor": 2
}
