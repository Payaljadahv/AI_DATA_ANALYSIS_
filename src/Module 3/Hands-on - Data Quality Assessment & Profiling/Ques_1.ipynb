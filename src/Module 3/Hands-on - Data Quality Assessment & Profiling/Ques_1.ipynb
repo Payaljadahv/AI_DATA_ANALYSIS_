{
 "cells": [
  {
   "cell_type": "code",
   "execution_count": 114,
   "metadata": {},
   "outputs": [],
   "source": [
    "# Task 1: Load a CSV Dataset\n",
    "# Description: Load a CSV file into a Pandas DataFrame and print the first five rows to understand the structure of the dataset.\n",
    "\n",
    "\n",
    "\n"
   ]
  },
  {
   "cell_type": "code",
   "execution_count": 115,
   "metadata": {},
   "outputs": [
    {
     "name": "stdout",
     "output_type": "stream",
     "text": [
      "File not found: your_file.csv\n"
     ]
    }
   ],
   "source": [
    "import pandas as pd\n",
    "\n",
    "# Replace 'your_file.csv' with the actual path to your CSV file\n",
    "file_path = 'your_file.csv'\n",
    "\n",
    "try:\n",
    "    # Load the CSV file into a DataFrame\n",
    "    df = pd.read_csv(file_path)\n",
    "\n",
    "    # Display the first five rows\n",
    "    print(\"First five rows of the dataset:\")\n",
    "    print(df.head())\n",
    "\n",
    "except FileNotFoundError:\n",
    "    print(f\"File not found: {file_path}\")\n",
    "except pd.errors.ParserError:\n",
    "    print(\"Error parsing the CSV file.\")\n"
   ]
  },
  {
   "cell_type": "code",
   "execution_count": 116,
   "metadata": {},
   "outputs": [],
   "source": [
    "# Task 3: Visualize Missing Data\n",
    "# Description: Use a heatmap to visualize the missing values in the dataset.\n",
    "\n",
    "\n",
    "\n"
   ]
  },
  {
   "cell_type": "code",
   "execution_count": null,
   "metadata": {},
   "outputs": [
    {
     "data": {
      "image/png": "[encoded data removed]",
      "text/plain": [
       "<Figure size 1000x500 with 1 Axes>"
      ]
     },
     "metadata": {},
     "output_type": "display_data"
    }
   ],
   "source": [
    "import pandas as pd\n",
    "import seaborn as sns\n",
    "import matplotlib.pyplot as plt\n",
    "import numpy as np\n",
    "\n",
    "# Sample DataFrame with missing values\n",
    "data = {\n",
    "    'Name': ['Alice', 'Bob', None, 'David'],\n",
    "    'Email': ['a@example.com', None, 'c@example.com', 'd@example.com'],\n",
    "    'Age': [25, 30, np.nan, 22]\n",
    "}\n",
    "\n",
    "df = pd.DataFrame(data)\n",
    "\n",
    "# Plot heatmap of missing data\n",
    "plt.figure(figsize=(10, 5))\n",
    "sns.heatmap(df.isnull(), cbar=False, cmap='viridis', yticklabels=False)\n",
    "plt.title(\"Missing Data Heatmap\")\n",
    "plt.show()\n"
   ]
  },
  {
   "cell_type": "code",
   "execution_count": 118,
   "metadata": {},
   "outputs": [],
   "source": [
    "# Task 4: Remove Columns with Many Missing Values\n",
    "# Description: Drop columns that have more than 50% missing values.\n",
    "\n",
    "\n"
   ]
  },
  {
   "cell_type": "code",
   "execution_count": 119,
   "metadata": {},
   "outputs": [
    {
     "name": "stdout",
     "output_type": "stream",
     "text": [
      "Original columns: ['Name', 'Email', 'Phone', 'Address', 'Age']\n",
      "Remaining columns: ['Name', 'Email', 'Age']\n"
     ]
    }
   ],
   "source": [
    "import pandas as pd\n",
    "\n",
    "# Sample DataFrame with some columns having lots of missing values\n",
    "data = {\n",
    "    'Name': ['Alice', 'Bob', 'Charlie', 'David'],\n",
    "    'Email': ['a@example.com', None, 'c@example.com', 'd@example.com'],\n",
    "    'Phone': [None, None, None, '123-456-7890'],\n",
    "    'Address': [None, None, None, None],  # 100% missing\n",
    "    'Age': [25, 30, None, 22]\n",
    "}\n",
    "\n",
    "df = pd.DataFrame(data)\n",
    "\n",
    "# Calculate the threshold: keep columns with at least 50% non-null values\n",
    "threshold = len(df) * 0.5\n",
    "df_cleaned = df.dropna(axis=1, thresh=threshold)\n",
    "\n",
    "print(\"Original columns:\", df.columns.tolist())\n",
    "print(\"Remaining columns:\", df_cleaned.columns.tolist())\n"
   ]
  },
  {
   "cell_type": "code",
   "execution_count": 120,
   "metadata": {},
   "outputs": [],
   "source": [
    "# Task 5: Identify Duplicate Rows\n",
    "# Description: Check for and display any duplicate rows in the dataset.\n",
    "\n",
    "\n"
   ]
  },
  {
   "cell_type": "code",
   "execution_count": 121,
   "metadata": {},
   "outputs": [
    {
     "name": "stdout",
     "output_type": "stream",
     "text": [
      "Duplicate Rows:\n",
      "  Name          Email         Phone\n",
      "3  Bob  b@example.com  234-567-8901\n"
     ]
    }
   ],
   "source": [
    "import pandas as pd\n",
    "\n",
    "# Example DataFrame with duplicate rows\n",
    "data = {\n",
    "    'Name': ['Alice', 'Bob', 'Charlie', 'Bob'],\n",
    "    'Email': ['a@example.com', 'b@example.com', 'c@example.com', 'b@example.com'],\n",
    "    'Phone': ['123-456-7890', '234-567-8901', '345-678-9012', '234-567-8901']\n",
    "}\n",
    "\n",
    "df = pd.DataFrame(data)\n",
    "\n",
    "# Find duplicate rows (by default considers all columns)\n",
    "duplicates = df[df.duplicated()]\n",
    "\n",
    "print(\"Duplicate Rows:\")\n",
    "print(duplicates)\n"
   ]
  },
  {
   "cell_type": "code",
   "execution_count": 122,
   "metadata": {},
   "outputs": [],
   "source": [
    "# Task 6: Remove Duplicate Rows\n",
    "# Description: Remove duplicate rows from the dataset and verify that they have been removed.\n",
    "\n",
    "\n"
   ]
  },
  {
   "cell_type": "code",
   "execution_count": 123,
   "metadata": {},
   "outputs": [
    {
     "name": "stdout",
     "output_type": "stream",
     "text": [
      "Original shape: (4, 3)\n",
      "Shape after removing duplicates: (3, 3)\n",
      "\n",
      "Cleaned DataFrame:\n",
      "      Name          Email         Phone\n",
      "0    Alice  a@example.com  123-456-7890\n",
      "1      Bob  b@example.com  234-567-8901\n",
      "2  Charlie  c@example.com  345-678-9012\n"
     ]
    }
   ],
   "source": [
    "import pandas as pd\n",
    "\n",
    "# Sample data with duplicate rows\n",
    "data = {\n",
    "    'Name': ['Alice', 'Bob', 'Charlie', 'Bob'],\n",
    "    'Email': ['a@example.com', 'b@example.com', 'c@example.com', 'b@example.com'],\n",
    "    'Phone': ['123-456-7890', '234-567-8901', '345-678-9012', '234-567-8901']\n",
    "}\n",
    "\n",
    "df = pd.DataFrame(data)\n",
    "\n",
    "# Display original shape\n",
    "print(\"Original shape:\", df.shape)\n",
    "\n",
    "# Remove duplicate rows\n",
    "df_cleaned = df.drop_duplicates()\n",
    "\n",
    "# Display new shape to confirm removal\n",
    "print(\"Shape after removing duplicates:\", df_cleaned.shape)\n",
    "\n",
    "# Show the cleaned dataset\n",
    "print(\"\\nCleaned DataFrame:\")\n",
    "print(df_cleaned)\n"
   ]
  },
  {
   "cell_type": "code",
   "execution_count": 124,
   "metadata": {},
   "outputs": [],
   "source": [
    "# Task 7: Check Data Inconsistencies\n",
    "# Description: Identify inconsistencies in categorical columns, such as differing text cases or trailing spaces.\n",
    "\n",
    "\n"
   ]
  },
  {
   "cell_type": "code",
   "execution_count": 125,
   "metadata": {},
   "outputs": [
    {
     "name": "stdout",
     "output_type": "stream",
     "text": [
      "Unique values in 'Gender' before cleaning:\n",
      "['Male' 'male ' 'FEMALE' ' female']\n",
      "\n",
      "Unique values in 'Gender' after cleaning:\n",
      "['male' 'female']\n"
     ]
    }
   ],
   "source": [
    "import pandas as pd\n",
    "\n",
    "# Sample dataset with inconsistent 'Gender' entries\n",
    "data = {\n",
    "    'Name': ['Alice', 'Bob', 'Charlie', 'Diana'],\n",
    "    'Gender': ['Male', 'male ', 'FEMALE', ' female']\n",
    "}\n",
    "\n",
    "df = pd.DataFrame(data)\n",
    "\n",
    "# Step 1: Check unique values before cleaning\n",
    "print(\"Unique values in 'Gender' before cleaning:\")\n",
    "print(df['Gender'].unique())\n",
    "\n",
    "# Step 2: Standardize values - strip whitespace and make lowercase\n",
    "df['Gender_cleaned'] = df['Gender'].str.strip().str.lower()\n",
    "\n",
    "# Step 3: Check unique values after cleaning\n",
    "print(\"\\nUnique values in 'Gender' after cleaning:\")\n",
    "print(df['Gender_cleaned'].unique())\n"
   ]
  },
  {
   "cell_type": "code",
   "execution_count": 126,
   "metadata": {},
   "outputs": [],
   "source": [
    "# Task 8: Get Summary of Data Quality\n",
    "# Description: Generate a summary of data quality including total records, number of duplicate rows, and columns with missing values.\n",
    "\n",
    "\n"
   ]
  },
  {
   "cell_type": "code",
   "execution_count": 127,
   "metadata": {},
   "outputs": [
    {
     "name": "stdout",
     "output_type": "stream",
     "text": [
      "📊 Data Quality Summary\n",
      "Total Records: 4\n",
      "Duplicate Rows: 1\n",
      "\n",
      "Columns with Missing Values:\n",
      "Email    1\n",
      "Phone    1\n",
      "dtype: int64\n"
     ]
    }
   ],
   "source": [
    "import pandas as pd\n",
    "\n",
    "# Load your dataset (replace with actual path if needed)\n",
    "# df = pd.read_csv(\"your_dataset.csv\")\n",
    "\n",
    "# Example DataFrame\n",
    "data = {\n",
    "    'Name': ['Alice', 'Bob', 'Charlie', 'Alice'],\n",
    "    'Email': ['a@example.com', 'b@example.com', None, 'a@example.com'],\n",
    "    'Phone': ['123-456', None, '789-012', '123-456']\n",
    "}\n",
    "df = pd.DataFrame(data)\n",
    "\n",
    "# Task 8: Data Quality Summary\n",
    "total_records = len(df)\n",
    "duplicate_rows = df.duplicated().sum()\n",
    "missing_values = df.isnull().sum()\n",
    "missing_columns = missing_values[missing_values > 0]\n",
    "\n",
    "# Display summary\n",
    "print(\"📊 Data Quality Summary\")\n",
    "print(f\"Total Records: {total_records}\")\n",
    "print(f\"Duplicate Rows: {duplicate_rows}\")\n",
    "print(\"\\nColumns with Missing Values:\")\n",
    "print(missing_columns)\n"
   ]
  },
  {
   "cell_type": "code",
   "execution_count": 128,
   "metadata": {},
   "outputs": [],
   "source": [
    "# Task 9: Generate a Data Quality Report\n",
    "# Description: Create a comprehensive data quality report that includes not only missing values but also basic statistics for numerical columns and the distribution of categorical columns.\n",
    "\n",
    "\n"
   ]
  },
  {
   "cell_type": "code",
   "execution_count": 129,
   "metadata": {},
   "outputs": [
    {
     "name": "stdout",
     "output_type": "stream",
     "text": [
      "📌 Missing Values Report:\n",
      "   Column  MissingValues  MissingPercentage\n",
      "0    Name              0                0.0\n",
      "1   Email              1               25.0\n",
      "2     Age              1               25.0\n",
      "3  Gender              0                0.0 \n",
      "\n",
      "📈 Numerical Statistics:\n",
      "  Column  count       mean       std   min   25%   50%   75%   max\n",
      "0    Age    3.0  26.666667  2.886751  25.0  25.0  25.0  27.5  30.0 \n",
      "\n",
      "🔠 Categorical Distributions:\n",
      "\n",
      "Column: Name\n",
      "Name\n",
      "Alice      2\n",
      "Bob        1\n",
      "Charlie    1\n",
      "Name: count, dtype: int64\n",
      "\n",
      "Column: Email\n",
      "Email\n",
      "a@example.com    2\n",
      "b@example.com    1\n",
      "None             1\n",
      "Name: count, dtype: int64\n",
      "\n",
      "Column: Gender\n",
      "Gender\n",
      "Female    2\n",
      "Male      1\n",
      "male      1\n",
      "Name: count, dtype: int64\n"
     ]
    }
   ],
   "source": [
    "import pandas as pd\n",
    "\n",
    "# Load dataset (replace with your file path if needed)\n",
    "# df = pd.read_csv(\"your_dataset.csv\")\n",
    "\n",
    "# Example dataset\n",
    "data = {\n",
    "    'Name': ['Alice', 'Bob', 'Charlie', 'Alice'],\n",
    "    'Email': ['a@example.com', 'b@example.com', None, 'a@example.com'],\n",
    "    'Age': [25, 30, None, 25],\n",
    "    'Gender': ['Female', 'Male', 'male', 'Female']\n",
    "}\n",
    "df = pd.DataFrame(data)\n",
    "\n",
    "# === Missing Values Report ===\n",
    "missing_report = df.isnull().sum().reset_index()\n",
    "missing_report.columns = ['Column', 'MissingValues']\n",
    "missing_report['MissingPercentage'] = (missing_report['MissingValues'] / len(df)) * 100\n",
    "\n",
    "# === Statistics for Numerical Columns ===\n",
    "numeric_stats = df.describe().T.reset_index().rename(columns={'index': 'Column'})\n",
    "\n",
    "# === Categorical Column Distributions ===\n",
    "categorical_columns = df.select_dtypes(include=['object']).columns\n",
    "categorical_distributions = {}\n",
    "for col in categorical_columns:\n",
    "    categorical_distributions[col] = df[col].value_counts(dropna=False)\n",
    "\n",
    "# === Output Reports ===\n",
    "print(\"📌 Missing Values Report:\")\n",
    "print(missing_report, \"\\n\")\n",
    "\n",
    "print(\"📈 Numerical Statistics:\")\n",
    "print(numeric_stats, \"\\n\")\n",
    "\n",
    "print(\"🔠 Categorical Distributions:\")\n",
    "for col, dist in categorical_distributions.items():\n",
    "    print(f\"\\nColumn: {col}\")\n",
    "    print(dist)\n"
   ]
  },
  {
   "cell_type": "code",
   "execution_count": 130,
   "metadata": {},
   "outputs": [],
   "source": [
    "# Task 10: Advanced Data Imputation\n",
    "# Description: Perform advanced data imputation by replacing missing values in numerical columns with the mean and categorical columns with the mode.\n",
    "\n",
    "\n",
    "\n"
   ]
  },
  {
   "cell_type": "code",
   "execution_count": 131,
   "metadata": {},
   "outputs": [
    {
     "name": "stdout",
     "output_type": "stream",
     "text": [
      "      Name          Email    Age  Gender\n",
      "0    Alice  a@example.com  25.00  Female\n",
      "1      Bob  b@example.com  30.00    Male\n",
      "2  Charlie  a@example.com  29.25    male\n",
      "3    David  d@example.com  22.00  Female\n",
      "4    Alice  e@example.com  40.00  Female\n"
     ]
    }
   ],
   "source": [
    "import pandas as pd\n",
    "\n",
    "# Example dataset with missing values\n",
    "data = {\n",
    "    'Name': ['Alice', 'Bob', 'Charlie', 'David', None],\n",
    "    'Email': ['a@example.com', 'b@example.com', None, 'd@example.com', 'e@example.com'],\n",
    "    'Age': [25, 30, None, 22, 40],\n",
    "    'Gender': ['Female', 'Male', 'male', None, 'Female']\n",
    "}\n",
    "df = pd.DataFrame(data)\n",
    "\n",
    "# Separate numerical and categorical columns\n",
    "numerical_cols = df.select_dtypes(include=['number']).columns\n",
    "categorical_cols = df.select_dtypes(include=['object']).columns\n",
    "\n",
    "# Impute numerical columns with mean\n",
    "for col in numerical_cols:\n",
    "    mean_val = df[col].mean()\n",
    "    df[col].fillna(mean_val, inplace=True)\n",
    "\n",
    "# Impute categorical columns with mode\n",
    "for col in categorical_cols:\n",
    "    mode_val = df[col].mode()\n",
    "    if not mode_val.empty:\n",
    "        df[col].fillna(mode_val[0], inplace=True)\n",
    "\n",
    "print(df)\n"
   ]
  }
 ],
 "metadata": {
  "kernelspec": {
   "display_name": "Python 3",
   "language": "python",
   "name": "python3"
  },
  "language_info": {
   "codemirror_mode": {
    "name": "ipython",
    "version": 3
   },
   "file_extension": ".py",
   "mimetype": "text/x-python",
   "name": "python",
   "nbconvert_exporter": "python",
   "pygments_lexer": "ipython3",
   "version": "3.10.12"
  }
 },
 "nbformat": 4,
 "nbformat_minor": 2
}
