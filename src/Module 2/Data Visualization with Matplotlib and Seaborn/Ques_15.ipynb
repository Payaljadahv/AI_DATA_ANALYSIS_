{
 "cells": [
  {
   "cell_type": "code",
   "execution_count": 1,
   "metadata": {},
   "outputs": [],
   "source": [
    "# Seaborn Plot - Heatmap\n",
    "# Objective: Create a heatmap to visualize a correlation matrix with Seaborn, using\n",
    "# advanced styling."
   ]
  },
  {
   "cell_type": "code",
   "execution_count": null,
   "metadata": {},
   "outputs": [],
   "source": [
    "import seaborn as sns\n",
    "import matplotlib.pyplot as plt\n",
    "import numpy as np\n",
    "import pandas as pd\n",
    "\n",
    "# Sample data: Using Iris dataset\n",
    "iris = sns.load_dataset('iris')\n",
    "\n",
    "# Calculate correlation matrix for numeric columns only\n",
    "corr = iris.select_dtypes(include='number').corr()\n",
    "\n",
    "# Set up the matplotlib figure\n",
    "plt.figure(figsize=(10, 8))\n",
    "\n",
    "# Create a custom diverging colormap\n",
    "cmap = sns.diverging_palette(220, 20, as_cmap=True)\n",
    "\n",
    "# Draw the heatmap with more annotations and customizations\n",
    "sns.heatmap(\n",
    "    corr,\n",
    "    annot=True,            # Show correlation coefficients\n",
    "    fmt=\".2f\",             # Format numbers to 2 decimal places\n",
    "    cmap=cmap,             # Use custom diverging colormap\n",
    "    center=0,              # Center the colormap at 0\n",
    "    square=True,           # Make cells square-shaped\n",
    "    linewidths=0.5,        # Width of lines between cells\n",
    "    cbar_kws={\"shrink\": 0.8, \"label\": \"Correlation Coefficient\"},  # Customize colorbar\n",
    "    annot_kws={\"size\": 12} # Font size of annotations\n",
    ")\n",
    "\n",
    "plt.title(\"Correlation Matrix Heatmap with Advanced Styling\", fontsize=16)\n",
    "plt.xticks(rotation=45)\n",
    "plt.yticks(rotation=0)\n",
    "plt.tight_layout()\n",
    "plt.show()\n"
   ]
  }
 ],
 "metadata": {
  "kernelspec": {
   "display_name": "Python 3",
   "language": "python",
   "name": "python3"
  },
  "language_info": {
   "codemirror_mode": {
    "name": "ipython",
    "version": 3
   },
   "file_extension": ".py",
   "mimetype": "text/x-python",
   "name": "python",
   "nbconvert_exporter": "python",
   "pygments_lexer": "ipython3",
   "version": "3.10.12"
  }
 },
 "nbformat": 4,
 "nbformat_minor": 2
}
