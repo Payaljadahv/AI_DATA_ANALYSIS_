{
 "cells": [
  {
   "cell_type": "code",
   "execution_count": 1,
   "metadata": {},
   "outputs": [],
   "source": [
    "# Title: Data Cleaning using Pandas\n",
    "# Description: Check for missing values and handle them by imputing the median."
   ]
  },
  {
   "cell_type": "code",
   "execution_count": 2,
   "metadata": {},
   "outputs": [
    {
     "name": "stdout",
     "output_type": "stream",
     "text": [
      "Missing values in each column:\n",
      " sepal_length    15\n",
      "sepal_width      0\n",
      "petal_length     0\n",
      "petal_width      0\n",
      "species          0\n",
      "dtype: int64\n",
      "\n",
      "Missing values after imputation:\n",
      " sepal_length    0\n",
      "sepal_width     0\n",
      "petal_length    0\n",
      "petal_width     0\n",
      "species         0\n",
      "dtype: int64\n"
     ]
    }
   ],
   "source": [
    "# Import Pandas and Seaborn\n",
    "import pandas as pd\n",
    "import seaborn as sns\n",
    "\n",
    "# Load the Iris dataset\n",
    "iris = sns.load_dataset('iris')\n",
    "\n",
    "# Introduce missing values artificially (for demonstration only)\n",
    "import numpy as np\n",
    "iris.loc[::10, 'sepal_length'] = np.nan\n",
    "\n",
    "# Check for missing values\n",
    "print(\"Missing values in each column:\\n\", iris.isnull().sum())\n",
    "\n",
    "# Impute missing values with the median\n",
    "iris['sepal_length'].fillna(iris['sepal_length'].median(), inplace=True)\n",
    "\n",
    "# Confirm no missing values remain\n",
    "print(\"\\nMissing values after imputation:\\n\", iris.isnull().sum())\n"
   ]
  }
 ],
 "metadata": {
  "kernelspec": {
   "display_name": "Python 3",
   "language": "python",
   "name": "python3"
  },
  "language_info": {
   "codemirror_mode": {
    "name": "ipython",
    "version": 3
   },
   "file_extension": ".py",
   "mimetype": "text/x-python",
   "name": "python",
   "nbconvert_exporter": "python",
   "pygments_lexer": "ipython3",
   "version": "3.10.12"
  }
 },
 "nbformat": 4,
 "nbformat_minor": 2
}
