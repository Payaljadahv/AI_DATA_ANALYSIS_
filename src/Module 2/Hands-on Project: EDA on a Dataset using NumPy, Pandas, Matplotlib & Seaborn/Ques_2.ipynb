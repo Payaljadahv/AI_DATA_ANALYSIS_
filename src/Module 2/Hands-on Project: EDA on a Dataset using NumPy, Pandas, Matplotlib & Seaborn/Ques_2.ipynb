{
 "cells": [
  {
   "cell_type": "code",
   "execution_count": 1,
   "metadata": {},
   "outputs": [],
   "source": [
    "# Title: Basic NumPy Operations\n",
    "# Description: Perform basic operations such as calculating the mean of the dataset."
   ]
  },
  {
   "cell_type": "code",
   "execution_count": 2,
   "metadata": {},
   "outputs": [
    {
     "name": "stdout",
     "output_type": "stream",
     "text": [
      "Overall mean: 3.0687499999999996\n",
      "Mean of each column: [5.575 3.125 2.775 0.8  ]\n",
      "Mean of each row: [2.55  2.375 4.    3.35 ]\n"
     ]
    }
   ],
   "source": [
    "# Import NumPy\n",
    "import numpy as np\n",
    "\n",
    "# Create a sample dataset (e.g., a 2D NumPy array)\n",
    "data = np.array([\n",
    "    [5.1, 3.5, 1.4, 0.2],\n",
    "    [4.9, 3.0, 1.4, 0.2],\n",
    "    [6.7, 3.1, 4.7, 1.5],\n",
    "    [5.6, 2.9, 3.6, 1.3]\n",
    "])\n",
    "\n",
    "# Calculate the mean of the entire dataset\n",
    "overall_mean = np.mean(data)\n",
    "print(\"Overall mean:\", overall_mean)\n",
    "\n",
    "# Calculate the mean of each column (feature-wise mean)\n",
    "column_mean = np.mean(data, axis=0)\n",
    "print(\"Mean of each column:\", column_mean)\n",
    "\n",
    "# Calculate the mean of each row (sample-wise mean)\n",
    "row_mean = np.mean(data, axis=1)\n",
    "print(\"Mean of each row:\", row_mean)\n"
   ]
  }
 ],
 "metadata": {
  "kernelspec": {
   "display_name": "Python 3",
   "language": "python",
   "name": "python3"
  },
  "language_info": {
   "codemirror_mode": {
    "name": "ipython",
    "version": 3
   },
   "file_extension": ".py",
   "mimetype": "text/x-python",
   "name": "python",
   "nbconvert_exporter": "python",
   "pygments_lexer": "ipython3",
   "version": "3.10.12"
  }
 },
 "nbformat": 4,
 "nbformat_minor": 2
}
