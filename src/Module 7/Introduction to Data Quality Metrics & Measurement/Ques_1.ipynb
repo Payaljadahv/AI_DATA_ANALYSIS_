{
 "cells": [
  {
   "cell_type": "markdown",
   "metadata": {},
   "source": [
    "## Data Quality Dashboard in Python\n",
    "\n",
    "**Description**: Create a basic dashboard using a Python library (e.g., Plotly Dash) to visualize data quality metrics for a given dataset."
   ]
  },
  {
   "cell_type": "code",
   "execution_count": 1,
   "metadata": {},
   "outputs": [
    {
     "ename": "ModuleNotFoundError",
     "evalue": "No module named 'dash'",
     "output_type": "error",
     "traceback": [
      "\u001b[0;31m---------------------------------------------------------------------------\u001b[0m",
      "\u001b[0;31mModuleNotFoundError\u001b[0m                       Traceback (most recent call last)",
      "Cell \u001b[0;32mIn[1], line 2\u001b[0m\n\u001b[1;32m      1\u001b[0m \u001b[38;5;28;01mimport\u001b[39;00m\u001b[38;5;250m \u001b[39m\u001b[38;5;21;01mpandas\u001b[39;00m\u001b[38;5;250m \u001b[39m\u001b[38;5;28;01mas\u001b[39;00m\u001b[38;5;250m \u001b[39m\u001b[38;5;21;01mpd\u001b[39;00m\n\u001b[0;32m----> 2\u001b[0m \u001b[38;5;28;01mimport\u001b[39;00m\u001b[38;5;250m \u001b[39m\u001b[38;5;21;01mdash\u001b[39;00m\n\u001b[1;32m      3\u001b[0m \u001b[38;5;28;01mfrom\u001b[39;00m\u001b[38;5;250m \u001b[39m\u001b[38;5;21;01mdash\u001b[39;00m\u001b[38;5;250m \u001b[39m\u001b[38;5;28;01mimport\u001b[39;00m dcc, html\n\u001b[1;32m      4\u001b[0m \u001b[38;5;28;01mimport\u001b[39;00m\u001b[38;5;250m \u001b[39m\u001b[38;5;21;01mplotly\u001b[39;00m\u001b[38;5;21;01m.\u001b[39;00m\u001b[38;5;21;01mexpress\u001b[39;00m\u001b[38;5;250m \u001b[39m\u001b[38;5;28;01mas\u001b[39;00m\u001b[38;5;250m \u001b[39m\u001b[38;5;21;01mpx\u001b[39;00m\n",
      "\u001b[0;31mModuleNotFoundError\u001b[0m: No module named 'dash'"
     ]
    }
   ],
   "source": [
    "import pandas as pd\n",
    "import dash\n",
    "from dash import dcc, html\n",
    "import plotly.express as px\n",
    "from dash.dependencies import Input, Output\n",
    "import dash_bootstrap_components as dbc\n",
    "\n",
    "# Sample dataset (replace with your own CSV file if needed)\n",
    "df = pd.read_csv('your_dataset.csv')  # Replace with your dataset path\n",
    "\n",
    "# Calculate data quality metrics\n",
    "missing_values = df.isnull().sum()\n",
    "missing_percent = (missing_values / len(df)) * 100\n",
    "data_types = df.dtypes.value_counts()\n",
    "duplicate_count = df.duplicated().sum()\n",
    "\n",
    "# Initialize the app\n",
    "app = dash.Dash(__name__, external_stylesheets=[dbc.themes.BOOTSTRAP])\n",
    "app.title = \"Data Quality Dashboard\"\n",
    "\n",
    "app.layout = dbc.Container([\n",
    "    html.H1(\"Data Quality Dashboard\", className=\"text-center my-4\"),\n",
    "\n",
    "    dbc.Row([\n",
    "        dbc.Col([\n",
    "            dbc.Card([\n",
    "                dbc.CardBody([\n",
    "                    html.H5(\"Total Rows\", className=\"card-title\"),\n",
    "                    html.P(f\"{len(df)}\")\n",
    "                ])\n",
    "            ])\n",
    "        ]),\n",
    "        dbc.Col([\n",
    "            dbc.Card([\n",
    "                dbc.CardBody([\n",
    "                    html.H5(\"Total Columns\", className=\"card-title\"),\n",
    "                    html.P(f\"{df.shape[1]}\")\n",
    "                ])\n",
    "            ])\n",
    "        ]),\n",
    "        dbc.Col([\n",
    "            dbc.Card([\n",
    "                dbc.CardBody([\n",
    "                    html.H5(\"Duplicate Rows\", className=\"card-title\"),\n",
    "                    html.P(f\"{duplicate_count}\")\n",
    "                ])\n",
    "            ])\n",
    "        ]),\n",
    "    ], className=\"mb-4\"),\n",
    "\n",
    "    dbc.Row([\n",
    "        dbc.Col([\n",
    "            dcc.Graph(\n",
    "                figure=px.bar(\n",
    "                    x=missing_values.index,\n",
    "                    y=missing_percent,\n",
    "                    labels={'x': 'Columns', 'y': 'Missing (%)'},\n",
    "                    title=\"Missing Data Percentage by Column\"\n",
    "                )\n",
    "            )\n",
    "        ])\n",
    "    ]),\n",
    "\n",
    "    dbc.Row([\n",
    "        dbc.Col([\n",
    "            dcc.Graph(\n",
    "                figure=px.pie(\n",
    "                    names=data_types.index.astype(str),\n",
    "                    values=data_types.values,\n",
    "                    title=\"Data Types Distribution\"\n",
    "                )\n",
    "            )\n",
    "        ])\n",
    "    ]),\n",
    "\n",
    "    dbc.Row([\n",
    "        dbc.Col([\n",
    "            html.H5(\"Summary Statistics\"),\n",
    "            html.Pre(df.describe(include='all').to_string())\n",
    "        ])\n",
    "    ])\n",
    "], fluid=True)\n",
    "\n",
    "if __name__ == \"__main__\":\n",
    "    app.run_server(debug=True)\n"
   ]
  }
 ],
 "metadata": {
  "kernelspec": {
   "display_name": "Python 3",
   "language": "python",
   "name": "python3"
  },
  "language_info": {
   "codemirror_mode": {
    "name": "ipython",
    "version": 3
   },
   "file_extension": ".py",
   "mimetype": "text/x-python",
   "name": "python",
   "nbconvert_exporter": "python",
   "pygments_lexer": "ipython3",
   "version": "3.10.12"
  }
 },
 "nbformat": 4,
 "nbformat_minor": 2
}
