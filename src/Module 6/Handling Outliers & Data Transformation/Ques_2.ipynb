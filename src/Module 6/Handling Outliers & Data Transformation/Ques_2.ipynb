{
 "cells": [
  {
   "cell_type": "code",
   "execution_count": 1,
   "metadata": {},
   "outputs": [],
   "source": [
    "# Question: Winsorization of Data\n",
    "# Description: Apply Winsorization to a given dataset to handle outliers.\n",
    "\n"
   ]
  },
  {
   "cell_type": "code",
   "execution_count": null,
   "metadata": {},
   "outputs": [
    {
     "name": "stdout",
     "output_type": "stream",
     "text": [
      "    Monthly_Sales  Monthly_Sales_Winsorized\n",
      "0             200                       200\n",
      "1             220                       220\n",
      "2             210                       210\n",
      "3             230                       230\n",
      "4             250                       250\n",
      "5             270                       270\n",
      "6             300                       300\n",
      "7            4000                      4000\n",
      "8             280                       280\n",
      "9             260                       260\n",
      "10            255                       255\n",
      "11            245                       245\n"
     ]
    }
   ],
   "source": [
    "\n",
    "\n",
    "import pandas as pd\n",
    "from scipy.stats.mstats import winsorize\n",
    "\n",
    "# Example data\n",
    "data = {'Monthly_Sales': [200, 220, 210, 230, 250, 270, 300, 4000, 280, 260, 255, 245]}\n",
    "df = pd.DataFrame(data)\n",
    "\n",
    "# Winsorize 'Monthly_Sales' by capping values below 5th percentile and above 95th percentile\n",
    "# limits=(lower_limit, upper_limit) where each is the fraction of data to winsorize\n",
    "winsorized_sales = winsorize(df['Monthly_Sales'], limits=[0.05, 0.05])\n",
    "\n",
    "# Add winsorized data back to DataFrame\n",
    "df['Monthly_Sales_Winsorized'] = winsorized_sales\n",
    "\n",
    "print(df)\n"
   ]
  }
 ],
 "metadata": {
  "kernelspec": {
   "display_name": "Python 3",
   "language": "python",
   "name": "python3"
  },
  "language_info": {
   "codemirror_mode": {
    "name": "ipython",
    "version": 3
   },
   "file_extension": ".py",
   "mimetype": "text/x-python",
   "name": "python",
   "nbconvert_exporter": "python",
   "pygments_lexer": "ipython3",
   "version": "3.10.12"
  }
 },
 "nbformat": 4,
 "nbformat_minor": 2
}
