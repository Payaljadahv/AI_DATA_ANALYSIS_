{
 "cells": [
  {
   "cell_type": "code",
   "execution_count": 1,
   "metadata": {},
   "outputs": [],
   "source": [
    "# Question: Combining Multiple Outlier Detection Methods\n",
    "# Description: Combine Z-score, IQR, and Boxplot methods to detect and compare outliers in adataset.\n",
    "\n",
    "\n"
   ]
  },
  {
   "cell_type": "code",
   "execution_count": null,
   "metadata": {},
   "outputs": [
    {
     "data": {
      "image/png": "[encoded data removed]",
      "text/plain": [
       "<Figure size 600x400 with 1 Axes>"
      ]
     },
     "metadata": {},
     "output_type": "display_data"
    },
    {
     "name": "stdout",
     "output_type": "stream",
     "text": [
      "Detected Outliers:\n",
      "    Value   Z_score  Zscore_Outlier  IQR_Outlier\n",
      "0      10 -0.423424           False        False\n",
      "1      12 -0.384806           False        False\n",
      "2      12 -0.384806           False        False\n",
      "3      13 -0.365496           False        False\n",
      "4      12 -0.384806           False        False\n",
      "5      11 -0.404115           False        False\n",
      "6      14 -0.346187           False        False\n",
      "7      15 -0.326878           False        False\n",
      "8     100  1.314408           False         True\n",
      "9      13 -0.365496           False        False\n",
      "10     12 -0.384806           False        False\n",
      "11     11 -0.404115           False        False\n",
      "12    200  3.245332            True         True\n",
      "13     12 -0.384806           False        False\n"
     ]
    }
   ],
   "source": [
    "import pandas as pd\n",
    "import numpy as np\n",
    "import matplotlib.pyplot as plt\n",
    "from scipy.stats import zscore\n",
    "\n",
    "# Sample data\n",
    "data = {\n",
    "    'Value': [10, 12, 12, 13, 12, 11, 14, 15, 100, 13, 12, 11, 200, 12]\n",
    "}\n",
    "df = pd.DataFrame(data)\n",
    "\n",
    "# 1. Z-score method\n",
    "df['Z_score'] = zscore(df['Value'])\n",
    "zscore_outliers = df[np.abs(df['Z_score']) > 3].index\n",
    "\n",
    "# 2. IQR method\n",
    "Q1 = df['Value'].quantile(0.25)\n",
    "Q3 = df['Value'].quantile(0.75)\n",
    "IQR = Q3 - Q1\n",
    "lower_bound = Q1 - 1.5 * IQR\n",
    "upper_bound = Q3 + 1.5 * IQR\n",
    "iqr_outliers = df[(df['Value'] < lower_bound) | (df['Value'] > upper_bound)].index\n",
    "\n",
    "# Mark outliers in dataframe\n",
    "df['Zscore_Outlier'] = df.index.isin(zscore_outliers)\n",
    "df['IQR_Outlier'] = df.index.isin(iqr_outliers)\n",
    "\n",
    "# 3. Visualize using boxplot (boxplot shows same IQR outliers)\n",
    "plt.figure(figsize=(6,4))\n",
    "plt.boxplot(df['Value'], vert=False)\n",
    "plt.title('Boxplot for Value')\n",
    "plt.show()\n",
    "\n",
    "# Display results\n",
    "print(\"Detected Outliers:\")\n",
    "print(df[['Value', 'Z_score', 'Zscore_Outlier', 'IQR_Outlier']])\n"
   ]
  }
 ],
 "metadata": {
  "kernelspec": {
   "display_name": "Python 3",
   "language": "python",
   "name": "python3"
  },
  "language_info": {
   "codemirror_mode": {
    "name": "ipython",
    "version": 3
   },
   "file_extension": ".py",
   "mimetype": "text/x-python",
   "name": "python",
   "nbconvert_exporter": "python",
   "pygments_lexer": "ipython3",
   "version": "3.10.12"
  }
 },
 "nbformat": 4,
 "nbformat_minor": 2
}
