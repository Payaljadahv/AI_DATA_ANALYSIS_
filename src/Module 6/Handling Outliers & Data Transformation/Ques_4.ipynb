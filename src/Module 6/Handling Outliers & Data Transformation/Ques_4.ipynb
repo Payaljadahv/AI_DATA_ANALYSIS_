{
 "cells": [
  {
   "cell_type": "code",
   "execution_count": 1,
   "metadata": {},
   "outputs": [],
   "source": [
    "# Question: Multivariate Outlier Detection Using Mahalanobis Distance\n",
    "# Description: Implement Mahalanobis distance to detect multivariate outliers in a dataset.\n",
    "\n"
   ]
  },
  {
   "cell_type": "code",
   "execution_count": null,
   "metadata": {},
   "outputs": [
    {
     "name": "stdout",
     "output_type": "stream",
     "text": [
      "   Feature1  Feature2  Mahalanobis_Dist  Outlier\n",
      "0        10        20          2.526563    False\n",
      "1        12        19          0.436924    False\n",
      "2        13        21          0.385427    False\n",
      "3        12        20          0.438257    False\n",
      "4        11        18          0.444350    False\n",
      "5       100       190          2.845165     True\n",
      "6        12        19          0.436924    False\n",
      "7        14        22          0.822600    False\n",
      "8        15        23          1.332823    False\n",
      "9        13        21          0.385427    False\n",
      "\n",
      "Outliers:\n",
      "   Feature1  Feature2  Mahalanobis_Dist  Outlier\n",
      "5       100       190          2.845165     True\n"
     ]
    }
   ],
   "source": [
    "import numpy as np\n",
    "import pandas as pd\n",
    "from scipy.stats import chi2\n",
    "\n",
    "# Sample dataset: Replace with your dataset\n",
    "data = {\n",
    "    'Feature1': [10, 12, 13, 12, 11, 100, 12, 14, 15, 13],\n",
    "    'Feature2': [20, 19, 21, 20, 18, 190, 19, 22, 23, 21]\n",
    "}\n",
    "df = pd.DataFrame(data)\n",
    "\n",
    "# Step 1: Calculate mean vector and covariance matrix\n",
    "mean_vec = df.mean().values\n",
    "cov_matrix = np.cov(df.values, rowvar=False)\n",
    "inv_cov_matrix = np.linalg.inv(cov_matrix)\n",
    "\n",
    "# Step 2: Compute Mahalanobis distance for each observation\n",
    "def mahalanobis_distance(x, mean, inv_cov):\n",
    "    diff = x - mean\n",
    "    md = np.sqrt(np.dot(np.dot(diff.T, inv_cov), diff))\n",
    "    return md\n",
    "\n",
    "df['Mahalanobis_Dist'] = df.apply(lambda row: mahalanobis_distance(row.values, mean_vec, inv_cov_matrix), axis=1)\n",
    "\n",
    "# Step 3: Determine threshold (e.g., 95% confidence interval)\n",
    "threshold = np.sqrt(chi2.ppf(0.95, df.shape[1]))\n",
    "\n",
    "# Step 4: Identify outliers\n",
    "df['Outlier'] = df['Mahalanobis_Dist'] > threshold\n",
    "\n",
    "print(df)\n",
    "\n",
    "# Optionally: Show outliers only\n",
    "print(\"\\nOutliers:\")\n",
    "print(df[df['Outlier']])\n"
   ]
  }
 ],
 "metadata": {
  "kernelspec": {
   "display_name": "Python 3",
   "language": "python",
   "name": "python3"
  },
  "language_info": {
   "codemirror_mode": {
    "name": "ipython",
    "version": 3
   },
   "file_extension": ".py",
   "mimetype": "text/x-python",
   "name": "python",
   "nbconvert_exporter": "python",
   "pygments_lexer": "ipython3",
   "version": "3.10.12"
  }
 },
 "nbformat": 4,
 "nbformat_minor": 2
}
