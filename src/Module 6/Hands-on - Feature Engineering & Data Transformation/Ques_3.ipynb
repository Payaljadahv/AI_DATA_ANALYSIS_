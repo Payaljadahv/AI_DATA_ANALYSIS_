{
 "cells": [
  {
   "cell_type": "code",
   "execution_count": 3,
   "metadata": {},
   "outputs": [],
   "source": [
    "# Feature Scaling & Encoding\n",
    "\n",
    "# Objective: Learn to scale numerical features and encode categorical features for better model performance.\n",
    "# Instructions:\n",
    "# For each example, perform the following steps:\n",
    "#     1. Load the Dataset: Load the dataset into your environment.\n",
    "#     2. Feature Scaling: Apply scaling methods (StandardScaler or MinMaxScaler) to specified numerical columns.\n",
    "#     3. Feature Encoding: Apply encoding methods (One-Hot Encoding or Label Encoding) to specified categorical columns.\n",
    "#     4. Verify Changes: Check the data to ensure proper scaling and encoding. \n",
    "\n",
    "\n",
    "# Task:\n",
    "#   Dataset: car_features.csv (get it by your own it includes the columns of Mileage , Horsepower)\n",
    "    # Columns to scale: Mileage , Horsepower\n",
    "    # Column to encode: Fuel_Type\n",
    "    # Steps:\n",
    "    #     1. Load car_features.csv .\n",
    "    #     2. Scale Mileage and Horsepower using StandardScaler.\n",
    "    #     3. Encode Fuel_Type using Label Encoding.\n",
    "    #     4. Confirm scaling and encoding by checking these columns.\n",
    "\n",
    "\n",
    "\n",
    "    \n",
    "    \n",
    "    "
   ]
  },
  {
   "cell_type": "code",
   "execution_count": 4,
   "metadata": {},
   "outputs": [
    {
     "name": "stdout",
     "output_type": "stream",
     "text": [
      "Original Data:\n",
      "   Mileage  Horsepower Fuel_Type\n",
      "0    25000         150    Petrol\n",
      "1    30000         200    Diesel\n",
      "2    15000         120    Petrol\n",
      "3    40000         220    Diesel\n",
      "4    35000         180    Petrol\n",
      "\n",
      "After Scaling and Encoding:\n",
      "    Mileage  Horsepower  Fuel_Type\n",
      "0 -0.464991   -0.675053          1\n",
      "1  0.116248    0.731307          0\n",
      "2 -1.627467   -1.518869          1\n",
      "3  1.278724    1.293851          0\n",
      "4  0.697486    0.168763          1\n"
     ]
    }
   ],
   "source": [
    "import pandas as pd\n",
    "from sklearn.preprocessing import StandardScaler, LabelEncoder\n",
    "\n",
    "# Step 1: Create a sample dataset similar to 'car_features.csv'\n",
    "data = {\n",
    "    'Mileage': [25000, 30000, 15000, 40000, 35000],\n",
    "    'Horsepower': [150, 200, 120, 220, 180],\n",
    "    'Fuel_Type': ['Petrol', 'Diesel', 'Petrol', 'Diesel', 'Petrol']\n",
    "}\n",
    "\n",
    "df = pd.DataFrame(data)\n",
    "\n",
    "print(\"Original Data:\")\n",
    "print(df)\n",
    "\n",
    "# Step 2: Scale Mileage and Horsepower using StandardScaler\n",
    "scaler = StandardScaler()\n",
    "df[['Mileage', 'Horsepower']] = scaler.fit_transform(df[['Mileage', 'Horsepower']])\n",
    "\n",
    "# Step 3: Encode Fuel_Type using LabelEncoder\n",
    "label_encoder = LabelEncoder()\n",
    "df['Fuel_Type'] = label_encoder.fit_transform(df['Fuel_Type'])\n",
    "\n",
    "# Step 4: Verify the changes\n",
    "print(\"\\nAfter Scaling and Encoding:\")\n",
    "print(df)\n"
   ]
  }
 ],
 "metadata": {
  "kernelspec": {
   "display_name": "Python 3",
   "language": "python",
   "name": "python3"
  },
  "language_info": {
   "codemirror_mode": {
    "name": "ipython",
    "version": 3
   },
   "file_extension": ".py",
   "mimetype": "text/x-python",
   "name": "python",
   "nbconvert_exporter": "python",
   "pygments_lexer": "ipython3",
   "version": "3.10.12"
  }
 },
 "nbformat": 4,
 "nbformat_minor": 2
}
