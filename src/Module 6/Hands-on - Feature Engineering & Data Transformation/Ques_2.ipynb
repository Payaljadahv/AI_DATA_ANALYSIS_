{
 "cells": [
  {
   "cell_type": "code",
   "execution_count": 3,
   "metadata": {},
   "outputs": [],
   "source": [
    "# Feature Scaling & Encoding\n",
    "\n",
    "# Objective: Learn to scale numerical features and encode categorical features for better model performance.\n",
    "# Instructions:\n",
    "# For each example, perform the following steps:\n",
    "#     1. Load the Dataset: Load the dataset into your environment.\n",
    "#     2. Feature Scaling: Apply scaling methods (StandardScaler or MinMaxScaler) to specified numerical columns.\n",
    "#     3. Feature Encoding: Apply encoding methods (One-Hot Encoding or Label Encoding) to specified categorical columns.\n",
    "#     4. Verify Changes: Check the data to ensure proper scaling and encoding. \n",
    "\n",
    "\n",
    "# Task:\n",
    "#     Dataset: customer_data.csv (get it by your own it includes the columns of Age , Annual_Income)\n",
    "#     Columns to scale: Age , Annual_Income\n",
    "#     Column to encode: Region\n",
    "#     Steps:\n",
    "#         1. Load customer_data.csv .\n",
    "#         2. Use MinMaxScaler on Age and Annual_Income .\n",
    "#         3. Perform One-Hot Encoding on Region .\n",
    "#         4. Verify by assessing the transformed dataset.\n",
    "\n",
    "\n",
    "\n",
    "    \n",
    "    \n",
    "    "
   ]
  },
  {
   "cell_type": "code",
   "execution_count": null,
   "metadata": {},
   "outputs": [
    {
     "name": "stdout",
     "output_type": "stream",
     "text": [
      "Original Data:\n",
      "    Customer_ID  Age  Annual_Income Region\n",
      "0            1   25          30000  North\n",
      "1            2   40          60000  South\n",
      "2            3   35          45000   East\n",
      "3            4   50          80000   West\n",
      "4            5   23          27000  South\n",
      "\n",
      "Transformed Data:\n",
      "    Customer_ID       Age  Annual_Income  Region_East  Region_North  \\\n",
      "0            1  0.074074       0.056604          0.0           1.0   \n",
      "1            2  0.629630       0.622642          0.0           0.0   \n",
      "2            3  0.444444       0.339623          1.0           0.0   \n",
      "3            4  1.000000       1.000000          0.0           0.0   \n",
      "4            5  0.000000       0.000000          0.0           0.0   \n",
      "\n",
      "   Region_South  Region_West  \n",
      "0           0.0          0.0  \n",
      "1           1.0          0.0  \n",
      "2           0.0          0.0  \n",
      "3           0.0          1.0  \n",
      "4           1.0          0.0  \n"
     ]
    }
   ],
   "source": [
    "import pandas as pd\n",
    "from sklearn.preprocessing import MinMaxScaler, OneHotEncoder\n",
    "\n",
    "# Sample data\n",
    "data = {\n",
    "    'Customer_ID': [1, 2, 3, 4, 5],\n",
    "    'Age': [25, 40, 35, 50, 23],\n",
    "    'Annual_Income': [30000, 60000, 45000, 80000, 27000],\n",
    "    'Region': ['North', 'South', 'East', 'West', 'South']\n",
    "}\n",
    "\n",
    "df = pd.DataFrame(data)\n",
    "print(\"Original Data:\\n\", df)\n",
    "\n",
    "# Scale Age and Annual_Income\n",
    "scaler = MinMaxScaler()\n",
    "df[['Age', 'Annual_Income']] = scaler.fit_transform(df[['Age', 'Annual_Income']])\n",
    "\n",
    "# One-Hot Encode Region\n",
    "encoder = OneHotEncoder(sparse_output=False)  # Changed here\n",
    "region_encoded = encoder.fit_transform(df[['Region']])\n",
    "\n",
    "region_df = pd.DataFrame(region_encoded, columns=encoder.get_feature_names_out(['Region']))\n",
    "df = pd.concat([df.drop('Region', axis=1), region_df], axis=1)\n",
    "\n",
    "print(\"\\nTransformed Data:\\n\", df)\n"
   ]
  }
 ],
 "metadata": {
  "kernelspec": {
   "display_name": "Python 3",
   "language": "python",
   "name": "python3"
  },
  "language_info": {
   "codemirror_mode": {
    "name": "ipython",
    "version": 3
   },
   "file_extension": ".py",
   "mimetype": "text/x-python",
   "name": "python",
   "nbconvert_exporter": "python",
   "pygments_lexer": "ipython3",
   "version": "3.10.12"
  }
 },
 "nbformat": 4,
 "nbformat_minor": 2
}
