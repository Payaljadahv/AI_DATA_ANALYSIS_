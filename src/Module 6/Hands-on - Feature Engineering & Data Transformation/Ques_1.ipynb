{
 "cells": [
  {
   "cell_type": "code",
   "execution_count": 3,
   "metadata": {},
   "outputs": [],
   "source": [
    "# Detect & Remove Outliers using IQR Method\n",
    "\n",
    "# Objective: Learn to identify and remove outliers from a dataset using the Interquartile Range (IQR) method.\n",
    "# Instructions:\n",
    "# For each example, perform the following steps:\n",
    "#     1. Load the Dataset: Load the dataset into your environment. You can use pandas to read the CSV file.\n",
    "#     2. Calculate IQR: Calculate the first quartile (Q1), third quartile (Q3), and the IQR for the specified column.\n",
    "#     3. Identify Outliers: Determine which data points are considered outliers.\n",
    "#     4. Remove Outliers: Remove the outliers from the dataset.\n",
    "#     5. Verify: Ensure the outliers are removed by checking the size or summary statistics of the dataset before and after the removal.\n",
    "    \n",
    "    \n",
    "    \n",
    "\n",
    "# Task:\n",
    "#     Dataset: sales_data.csv(get it by your own it includes the column of Monthly_Sales)\n",
    "#     Column to analyze: Monthly_Sales\n",
    "#     Steps:\n",
    "#         1. Load sales_data.csv .\n",
    "#         2. Calculate Q1, Q3, and IQR for Monthly_Sales .\n",
    "#         3. Identify outliers.\n",
    "#         4. Remove the outliers.\n",
    "#         5. Check the number of rows removed.\n",
    "\n",
    "\n",
    "\n",
    "\n",
    "\n"
   ]
  },
  {
   "cell_type": "code",
   "execution_count": 4,
   "metadata": {},
   "outputs": [
    {
     "name": "stdout",
     "output_type": "stream",
     "text": [
      "Original Dataset Shape: (100, 1)\n",
      "New Dataset Shape (after removing outliers): (98, 1)\n",
      "Number of Rows Removed: 2\n"
     ]
    }
   ],
   "source": [
    "import pandas as pd\n",
    "import numpy as np\n",
    "\n",
    "# Step 1: Create a sample dataset (since 'sales_data.csv' was not found)\n",
    "np.random.seed(0)\n",
    "sales = np.append(np.random.normal(5000, 1500, 98), [30000, 35000])  # 2 outliers\n",
    "df = pd.DataFrame({'Monthly_Sales': sales})\n",
    "\n",
    "# Show initial dataset size\n",
    "print(\"Original Dataset Shape:\", df.shape)\n",
    "\n",
    "# Step 2: Calculate Q1, Q3, and IQR\n",
    "Q1 = df['Monthly_Sales'].quantile(0.25)\n",
    "Q3 = df['Monthly_Sales'].quantile(0.75)\n",
    "IQR = Q3 - Q1\n",
    "\n",
    "# Step 3: Define outlier bounds\n",
    "lower_bound = Q1 - 1.5 * IQR\n",
    "upper_bound = Q3 + 1.5 * IQR\n",
    "\n",
    "# Step 4: Filter out outliers\n",
    "df_no_outliers = df[(df['Monthly_Sales'] >= lower_bound) & (df['Monthly_Sales'] <= upper_bound)]\n",
    "\n",
    "# Step 5: Show results\n",
    "print(\"New Dataset Shape (after removing outliers):\", df_no_outliers.shape)\n",
    "print(\"Number of Rows Removed:\", df.shape[0] - df_no_outliers.shape[0])\n"
   ]
  }
 ],
 "metadata": {
  "kernelspec": {
   "display_name": "Python 3",
   "language": "python",
   "name": "python3"
  },
  "language_info": {
   "codemirror_mode": {
    "name": "ipython",
    "version": 3
   },
   "file_extension": ".py",
   "mimetype": "text/x-python",
   "name": "python",
   "nbconvert_exporter": "python",
   "pygments_lexer": "ipython3",
   "version": "3.10.12"
  }
 },
 "nbformat": 4,
 "nbformat_minor": 2
}
