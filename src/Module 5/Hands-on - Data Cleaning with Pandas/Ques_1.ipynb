{
 "cells": [
  {
   "cell_type": "code",
   "execution_count": 1,
   "metadata": {},
   "outputs": [],
   "source": [
    "# Part 1: Detect & Handle Missing Data\n",
    "\n",
    "# Task 1: Detect Missing Data\n",
    "#     1. Load the Data:\n",
    "#     2. Detect Missing Data:\n",
    "\n",
    "\n",
    "\n",
    "# Task 2: Handle Missing Data by Dropping\n",
    "#     1. Drop Rows with Missing Values:\n",
    "        \n",
    "        \n",
    "\n",
    "# Task 3: Handle Missing Data by Imputation\n",
    "#     1. Fill Missing Values:\n",
    "        \n",
    "        "
   ]
  },
  {
   "cell_type": "code",
   "execution_count": 2,
   "metadata": {},
   "outputs": [
    {
     "name": "stdout",
     "output_type": "stream",
     "text": [
      "Original Data:\n",
      "    Age   Income Gender\n",
      "0  25.0  50000.0      M\n",
      "1   NaN  54000.0      F\n",
      "2  30.0      NaN    NaN\n",
      "3  22.0  48000.0      F\n",
      "4   NaN  52000.0      M\n",
      "5  35.0      NaN      F\n",
      "\n",
      "Missing values per column:\n",
      "Age       2\n",
      "Income    2\n",
      "Gender    1\n",
      "dtype: int64\n",
      "\n",
      "Data after dropping rows with missing values:\n",
      "    Age   Income Gender\n",
      "0  25.0  50000.0      M\n",
      "3  22.0  48000.0      F\n",
      "\n",
      "Data after imputing missing values:\n",
      "    Age   Income Gender\n",
      "0  25.0  50000.0      M\n",
      "1  28.0  54000.0      F\n",
      "2  30.0  51000.0      F\n",
      "3  22.0  48000.0      F\n",
      "4  28.0  52000.0      M\n",
      "5  35.0  51000.0      F\n"
     ]
    }
   ],
   "source": [
    "import pandas as pd\n",
    "import numpy as np\n",
    "\n",
    "# Task 1: Detect Missing Data\n",
    "# 1. Load the Data (creating a sample dataset here)\n",
    "data = {\n",
    "    'Age': [25, np.nan, 30, 22, np.nan, 35],\n",
    "    'Income': [50000, 54000, np.nan, 48000, 52000, np.nan],\n",
    "    'Gender': ['M', 'F', np.nan, 'F', 'M', 'F']\n",
    "}\n",
    "df = pd.DataFrame(data)\n",
    "\n",
    "print(\"Original Data:\")\n",
    "print(df)\n",
    "\n",
    "# 2. Detect Missing Data\n",
    "print(\"\\nMissing values per column:\")\n",
    "print(df.isnull().sum())\n",
    "\n",
    "# Task 2: Handle Missing Data by Dropping\n",
    "# 1. Drop Rows with Missing Values\n",
    "df_dropped = df.dropna()\n",
    "print(\"\\nData after dropping rows with missing values:\")\n",
    "print(df_dropped)\n",
    "\n",
    "# Task 3: Handle Missing Data by Imputation\n",
    "# 1. Fill Missing Values\n",
    "\n",
    "# Fill numeric columns with mean\n",
    "for col in df.select_dtypes(include=['float64', 'int64']).columns:\n",
    "    df[col].fillna(df[col].mean(), inplace=True)\n",
    "\n",
    "# Fill categorical columns with mode\n",
    "for col in df.select_dtypes(include=['object']).columns:\n",
    "    df[col].fillna(df[col].mode()[0], inplace=True)\n",
    "\n",
    "print(\"\\nData after imputing missing values:\")\n",
    "print(df)\n"
   ]
  }
 ],
 "metadata": {
  "kernelspec": {
   "display_name": "Python 3",
   "language": "python",
   "name": "python3"
  },
  "language_info": {
   "codemirror_mode": {
    "name": "ipython",
    "version": 3
   },
   "file_extension": ".py",
   "mimetype": "text/x-python",
   "name": "python",
   "nbconvert_exporter": "python",
   "pygments_lexer": "ipython3",
   "version": "3.10.12"
  }
 },
 "nbformat": 4,
 "nbformat_minor": 2
}
