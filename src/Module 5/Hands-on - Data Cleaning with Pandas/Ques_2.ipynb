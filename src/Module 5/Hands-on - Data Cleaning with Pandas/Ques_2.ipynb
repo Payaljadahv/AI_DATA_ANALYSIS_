{
 "cells": [
  {
   "cell_type": "code",
   "execution_count": 1,
   "metadata": {},
   "outputs": [],
   "source": [
    "# Part 2: Remove Duplicates & Fix Data Types\n",
    "\n",
    "# Task 1: Remove Duplicates\n",
    "#     1. Load Extended Data:\n",
    "#     2. Remove Duplicates:\n",
    "        \n",
    "\n",
    "\n",
    "# Task 2: Fix Data Types\n",
    "#     1. Fix Incorrect Data Types:\n",
    "        \n",
    "\n",
    "\n",
    "# Task 3: Convert Data Type for Analysis\n",
    "#     1. Convert Date Strings to DateTime:\n",
    "\n",
    "\n"
   ]
  },
  {
   "cell_type": "code",
   "execution_count": 2,
   "metadata": {},
   "outputs": [
    {
     "name": "stdout",
     "output_type": "stream",
     "text": [
      "Original data shape: (6, 4)\n",
      "   ID     Name Age    JoinDate\n",
      "0   1    Alice  25  2021-01-15\n",
      "1   2      Bob  30  2020-06-20\n",
      "2   2      Bob  30  2020-06-20\n",
      "3   3  Charlie  35  2019-03-30\n",
      "4   4    David  40  2018-11-25\n",
      "5   4    David  40  2018-11-25\n",
      "\n",
      "Data shape after removing duplicates: (4, 4)\n",
      "   ID     Name Age    JoinDate\n",
      "0   1    Alice  25  2021-01-15\n",
      "1   2      Bob  30  2020-06-20\n",
      "3   3  Charlie  35  2019-03-30\n",
      "4   4    David  40  2018-11-25\n",
      "\n",
      "Data types after fixing Age:\n",
      "ID           int64\n",
      "Name        object\n",
      "Age          int64\n",
      "JoinDate    object\n",
      "dtype: object\n",
      "\n",
      "Data types after converting JoinDate:\n",
      "ID                   int64\n",
      "Name                object\n",
      "Age                  int64\n",
      "JoinDate    datetime64[ns]\n",
      "dtype: object\n",
      "\n",
      "Final cleaned data:\n",
      "   ID     Name  Age   JoinDate\n",
      "0   1    Alice   25 2021-01-15\n",
      "1   2      Bob   30 2020-06-20\n",
      "3   3  Charlie   35 2019-03-30\n",
      "4   4    David   40 2018-11-25\n"
     ]
    },
    {
     "name": "stderr",
     "output_type": "stream",
     "text": [
      "/tmp/ipykernel_39560/2698676297.py:25: SettingWithCopyWarning: \n",
      "A value is trying to be set on a copy of a slice from a DataFrame.\n",
      "Try using .loc[row_indexer,col_indexer] = value instead\n",
      "\n",
      "See the caveats in the documentation: https://pandas.pydata.org/pandas-docs/stable/user_guide/indexing.html#returning-a-view-versus-a-copy\n",
      "  df_no_duplicates['Age'] = df_no_duplicates['Age'].astype(int)\n",
      "/tmp/ipykernel_39560/2698676297.py:32: SettingWithCopyWarning: \n",
      "A value is trying to be set on a copy of a slice from a DataFrame.\n",
      "Try using .loc[row_indexer,col_indexer] = value instead\n",
      "\n",
      "See the caveats in the documentation: https://pandas.pydata.org/pandas-docs/stable/user_guide/indexing.html#returning-a-view-versus-a-copy\n",
      "  df_no_duplicates['JoinDate'] = pd.to_datetime(df_no_duplicates['JoinDate'])\n"
     ]
    }
   ],
   "source": [
    "import pandas as pd\n",
    "\n",
    "# Task 1: Remove Duplicates\n",
    "# 1. Load Extended Data (sample with duplicates)\n",
    "data = {\n",
    "    'ID': [1, 2, 2, 3, 4, 4],\n",
    "    'Name': ['Alice', 'Bob', 'Bob', 'Charlie', 'David', 'David'],\n",
    "    'Age': ['25', '30', '30', '35', '40', '40'],  # Age as string (incorrect dtype)\n",
    "    'JoinDate': ['2021-01-15', '2020-06-20', '2020-06-20', '2019-03-30', '2018-11-25', '2018-11-25']\n",
    "}\n",
    "\n",
    "df = pd.DataFrame(data)\n",
    "\n",
    "print(\"Original data shape:\", df.shape)\n",
    "print(df)\n",
    "\n",
    "# 2. Remove duplicates (all columns)\n",
    "df_no_duplicates = df.drop_duplicates()\n",
    "print(\"\\nData shape after removing duplicates:\", df_no_duplicates.shape)\n",
    "print(df_no_duplicates)\n",
    "\n",
    "\n",
    "# Task 2: Fix Data Types\n",
    "# 1. Fix Incorrect Data Types (Age as int)\n",
    "df_no_duplicates['Age'] = df_no_duplicates['Age'].astype(int)\n",
    "print(\"\\nData types after fixing Age:\")\n",
    "print(df_no_duplicates.dtypes)\n",
    "\n",
    "\n",
    "# Task 3: Convert Data Type for Analysis\n",
    "# 1. Convert Date Strings to DateTime\n",
    "df_no_duplicates['JoinDate'] = pd.to_datetime(df_no_duplicates['JoinDate'])\n",
    "print(\"\\nData types after converting JoinDate:\")\n",
    "print(df_no_duplicates.dtypes)\n",
    "\n",
    "print(\"\\nFinal cleaned data:\")\n",
    "print(df_no_duplicates)\n"
   ]
  }
 ],
 "metadata": {
  "kernelspec": {
   "display_name": "Python 3",
   "language": "python",
   "name": "python3"
  },
  "language_info": {
   "codemirror_mode": {
    "name": "ipython",
    "version": 3
   },
   "file_extension": ".py",
   "mimetype": "text/x-python",
   "name": "python",
   "nbconvert_exporter": "python",
   "pygments_lexer": "ipython3",
   "version": "3.10.12"
  }
 },
 "nbformat": 4,
 "nbformat_minor": 2
}
