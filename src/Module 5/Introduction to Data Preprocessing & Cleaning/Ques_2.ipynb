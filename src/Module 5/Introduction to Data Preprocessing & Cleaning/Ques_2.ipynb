{
 "cells": [
  {
   "cell_type": "code",
   "execution_count": 40,
   "metadata": {},
   "outputs": [],
   "source": [
    "# Importance of Data Cleaning\n",
    "\n",
    "# 1. Missing Values: Missing data points in a dataset can lead to biased results.\n",
    "#     Task 1: Load a dataset and identify which columns have missing values.\n",
    "#     Task 2: Replace missing values in a dataset with the column mean or mode.\n",
    "#     Task 3: Compare model performance with and without handling missing values.\n",
    "    \n",
    "\n",
    "\n",
    "\n"
   ]
  },
  {
   "cell_type": "code",
   "execution_count": 41,
   "metadata": {},
   "outputs": [
    {
     "name": "stdout",
     "output_type": "stream",
     "text": [
      "\n",
      "Mean Squared Error without Handling Missing Values: Input X contains NaN.\n",
      "LinearRegression does not accept missing values encoded as NaN natively. For supervised learning, you might want to consider sklearn.ensemble.HistGradientBoostingClassifier and Regressor which accept missing values encoded as NaNs natively. Alternatively, it is possible to preprocess the data, for instance by using an imputer transformer in a pipeline or drop samples with missing values. See https://scikit-learn.org/stable/modules/impute.html You can find a list of all estimators that handle NaN values at the following page: https://scikit-learn.org/stable/modules/impute.html#estimators-that-handle-nan-values\n",
      "Mean Squared Error with Handling Missing Values: 4.63\n"
     ]
    }
   ],
   "source": [
    "from sklearn.model_selection import train_test_split\n",
    "from sklearn.linear_model import LinearRegression\n",
    "from sklearn.metrics import mean_squared_error\n",
    "\n",
    "# Sample dataset with a target variable\n",
    "data_with_missing = {\n",
    "    'ID': [1, 2, 3, 4, 5],\n",
    "    'Height_cm': [170, 180, None, 175, 165],\n",
    "    'Weight_kg': [65, None, 50, 70, 55],\n",
    "    'Age': [25, 30, 22, None, 29],\n",
    "    'Target': [22, 25, 18, 24, 20]  # Example target variable\n",
    "}\n",
    "\n",
    "df_with_missing = pd.DataFrame(data_with_missing)\n",
    "\n",
    "# Split the data into training and testing sets without handling missing values\n",
    "X = df_with_missing[['Height_cm', 'Weight_kg', 'Age']]\n",
    "y = df_with_missing['Target']\n",
    "X_train, X_test, y_train, y_test = train_test_split(X, y, test_size=0.2, random_state=42)\n",
    "\n",
    "# Train a linear regression model without handling missing values\n",
    "model_without_imputation = LinearRegression()\n",
    "\n",
    "try:\n",
    "    model_without_imputation.fit(X_train, y_train)\n",
    "    y_pred_without_imputation = model_without_imputation.predict(X_test)\n",
    "    mse_without_imputation = mean_squared_error(y_test, y_pred_without_imputation)\n",
    "except ValueError as e:\n",
    "    mse_without_imputation = str(e)\n",
    "\n",
    "# Now handle missing values\n",
    "df_with_missing['Height_cm'].fillna(df_with_missing['Height_cm'].mean(), inplace=True)\n",
    "df_with_missing['Weight_kg'].fillna(df_with_missing['Weight_kg'].mean(), inplace=True)\n",
    "df_with_missing['Age'].fillna(df_with_missing['Age'].mean(), inplace=True)\n",
    "\n",
    "# Split the data into training and testing sets after handling missing values\n",
    "X_imputed = df_with_missing[['Height_cm', 'Weight_kg', 'Age']]\n",
    "y_imputed = df_with_missing['Target']\n",
    "X_train_imputed, X_test_imputed, y_train_imputed, y_test_imputed = train_test_split(X_imputed, y_imputed, test_size=0.2, random_state=42)\n",
    "\n",
    "# Train a linear regression model with handled missing values\n",
    "model_with_imputation = LinearRegression()\n",
    "model_with_imputation.fit(X_train_imputed, y_train_imputed)\n",
    "y_pred_with_imputation = model_with_imputation.predict(X_test_imputed)\n",
    "mse_with_imputation = mean_squared_error(y_test_imputed, y_pred_with_imputation)\n",
    "\n",
    "print(f\"\\nMean Squared Error without Handling Missing Values: {mse_without_imputation}\")\n",
    "print(f\"Mean Squared Error with Handling Missing Values: {mse_with_imputation:.2f}\")\n"
   ]
  },
  {
   "cell_type": "code",
   "execution_count": 42,
   "metadata": {},
   "outputs": [],
   "source": [
    "# 2. Duplicate Data: Repeated data points can skew analysis and model results.\n",
    "#     Task 1: Identify and remove duplicate entries from a dataset using a programming language or tool.\n",
    "#     Task 2: Document the before-and-after dataset shape to understand the impact of duplicates.\n",
    "#     Task 3: Explain to a classmate how duplicate data can affect prediction accuracy.\n",
    "    \n",
    "    \n",
    "    "
   ]
  },
  {
   "cell_type": "code",
   "execution_count": null,
   "metadata": {},
   "outputs": [
    {
     "name": "stdout",
     "output_type": "stream",
     "text": [
      "Original dataset shape: (8, 3)\n",
      "Original dataset:\n",
      "   ID  Feature1 Feature2\n",
      "0   1        10        A\n",
      "1   2        20        B\n",
      "2   2        20        B\n",
      "3   3        30        C\n",
      "4   4        40        D\n",
      "5   4        40        D\n",
      "6   4        40        D\n",
      "7   5        50        E\n",
      "\n",
      "Duplicate rows identified (True means duplicate):\n",
      "0    False\n",
      "1    False\n",
      "2     True\n",
      "3    False\n",
      "4    False\n",
      "5     True\n",
      "6     True\n",
      "7    False\n",
      "dtype: bool\n",
      "\n",
      "Dataset shape after removing duplicates: (5, 3)\n",
      "Dataset after duplicates removed:\n",
      "   ID  Feature1 Feature2\n",
      "0   1        10        A\n",
      "1   2        20        B\n",
      "3   3        30        C\n",
      "4   4        40        D\n",
      "7   5        50        E\n"
     ]
    }
   ],
   "source": [
    "import pandas as pd\n",
    "\n",
    "# Sample dataset with duplicates\n",
    "data = {\n",
    "    'ID': [1, 2, 2, 3, 4, 4, 4, 5],\n",
    "    'Feature1': [10, 20, 20, 30, 40, 40, 40, 50],\n",
    "    'Feature2': ['A', 'B', 'B', 'C', 'D', 'D', 'D', 'E']\n",
    "}\n",
    "\n",
    "df = pd.DataFrame(data)\n",
    "\n",
    "print(\"Original dataset shape:\", df.shape)\n",
    "print(\"Original dataset:\")\n",
    "print(df)\n",
    "\n",
    "# Detect duplicates (all columns)\n",
    "duplicates = df.duplicated()\n",
    "print(\"\\nDuplicate rows identified (True means duplicate):\")\n",
    "print(duplicates)\n",
    "\n",
    "# Remove duplicates\n",
    "df_no_duplicates = df.drop_duplicates()\n",
    "\n",
    "print(\"\\nDataset shape after removing duplicates:\", df_no_duplicates.shape)\n",
    "print(\"Dataset after duplicates removed:\")\n",
    "print(df_no_duplicates)\n"
   ]
  },
  {
   "cell_type": "code",
   "execution_count": 44,
   "metadata": {},
   "outputs": [],
   "source": [
    "# 3. Incorrect Data Types: Data stored in incorrect formats can lead to parsing errors or incorrect analysis.\n",
    "#     Task 1: Convert a column of string numbers to integers in a dataset.\n",
    "#     Task 2: Identify and correct columns with inconsistent data types in a dataset.\n",
    "#     Task 3: Discuss why correct data types are critical for feature engineering.\n",
    "    \n",
    "    \n",
    "    "
   ]
  },
  {
   "cell_type": "code",
   "execution_count": 45,
   "metadata": {},
   "outputs": [
    {
     "name": "stdout",
     "output_type": "stream",
     "text": [
      "Original Data Types:\n",
      "ID            int64\n",
      "Height_cm    object\n",
      "Weight_kg    object\n",
      "dtype: object\n",
      "\n",
      "Data after Correcting Inconsistent Data Types:\n",
      "   ID  Height_cm  Weight_kg\n",
      "0   1      170.0         65\n",
      "1   2      180.0         70\n",
      "2   3        NaN         50\n",
      "\n",
      "Corrected Data Types:\n",
      "ID             int64\n",
      "Height_cm    float64\n",
      "Weight_kg      int64\n",
      "dtype: object\n"
     ]
    }
   ],
   "source": [
    "# Sample dataset with inconsistent data types\n",
    "data_inconsistent = {\n",
    "    'ID': [1, 2, 3],\n",
    "    'Height_cm': ['170', '180', 'not available'],  # Inconsistent data type\n",
    "    'Weight_kg': [65, '70', 50]  # Mixed types\n",
    "}\n",
    "\n",
    "df_inconsistent = pd.DataFrame(data_inconsistent)\n",
    "\n",
    "# Identify data types\n",
    "print(\"Original Data Types:\")\n",
    "print(df_inconsistent.dtypes)\n",
    "\n",
    "# Attempt to convert 'Height_cm' to numeric, coercing errors to NaN\n",
    "df_inconsistent['Height_cm'] = pd.to_numeric(df_inconsistent['Height_cm'], errors='coerce')\n",
    "\n",
    "# Convert 'Weight_kg' to numeric, coercing errors to NaN\n",
    "df_inconsistent['Weight_kg'] = pd.to_numeric(df_inconsistent['Weight_kg'], errors='coerce')\n",
    "\n",
    "print(\"\\nData after Correcting Inconsistent Data Types:\")\n",
    "print(df_inconsistent)\n",
    "print(\"\\nCorrected Data Types:\")\n",
    "print(df_inconsistent.dtypes)\n"
   ]
  },
  {
   "cell_type": "code",
   "execution_count": 46,
   "metadata": {},
   "outputs": [],
   "source": [
    "# 4. Outliers & Inconsistencies: Irregularities in data can mislead statistical analysis and model predictions.\n",
    "#     Task 1: Visualize a dataset and identify outliers using a boxplot.\n",
    "#     Task 2: Remove or adjust outliers and re-analyze the dataset.\n",
    "#     Task 3: Research and report on a technique for handling outliers effectively.\n",
    "    \n",
    "    \n",
    "    "
   ]
  },
  {
   "cell_type": "code",
   "execution_count": 47,
   "metadata": {},
   "outputs": [
    {
     "data": {
      "image/png": "[encoded data removed]",
      "text/plain": [
       "<Figure size 600x400 with 1 Axes>"
      ]
     },
     "metadata": {},
     "output_type": "display_data"
    }
   ],
   "source": [
    "import pandas as pd\n",
    "import numpy as np\n",
    "import matplotlib.pyplot as plt\n",
    "import seaborn as sns\n",
    "\n",
    "# Sample dataset with outliers\n",
    "data = {\n",
    "    'Feature': [10, 12, 12, 13, 14, 15, 16, 100, 102, 110]  # Last three are outliers\n",
    "}\n",
    "df = pd.DataFrame(data)\n",
    "\n",
    "# Plot boxplot to visualize outliers\n",
    "plt.figure(figsize=(6,4))\n",
    "sns.boxplot(x=df['Feature'])\n",
    "plt.title('Boxplot of Feature')\n",
    "plt.show()\n"
   ]
  },
  {
   "cell_type": "code",
   "execution_count": 48,
   "metadata": {},
   "outputs": [
    {
     "ename": "KeyError",
     "evalue": "'Score'",
     "output_type": "error",
     "traceback": [
      "\u001b[0;31m---------------------------------------------------------------------------\u001b[0m",
      "\u001b[0;31mKeyError\u001b[0m                                  Traceback (most recent call last)",
      "File \u001b[0;32m~/.local/lib/python3.10/site-packages/pandas/core/indexes/base.py:3791\u001b[0m, in \u001b[0;36mIndex.get_loc\u001b[0;34m(self, key)\u001b[0m\n\u001b[1;32m   3790\u001b[0m \u001b[38;5;28;01mtry\u001b[39;00m:\n\u001b[0;32m-> 3791\u001b[0m     \u001b[38;5;28;01mreturn\u001b[39;00m \u001b[38;5;28;43mself\u001b[39;49m\u001b[38;5;241;43m.\u001b[39;49m\u001b[43m_engine\u001b[49m\u001b[38;5;241;43m.\u001b[39;49m\u001b[43mget_loc\u001b[49m\u001b[43m(\u001b[49m\u001b[43mcasted_key\u001b[49m\u001b[43m)\u001b[49m\n\u001b[1;32m   3792\u001b[0m \u001b[38;5;28;01mexcept\u001b[39;00m \u001b[38;5;167;01mKeyError\u001b[39;00m \u001b[38;5;28;01mas\u001b[39;00m err:\n",
      "File \u001b[0;32mindex.pyx:152\u001b[0m, in \u001b[0;36mpandas._libs.index.IndexEngine.get_loc\u001b[0;34m()\u001b[0m\n",
      "File \u001b[0;32mindex.pyx:181\u001b[0m, in \u001b[0;36mpandas._libs.index.IndexEngine.get_loc\u001b[0;34m()\u001b[0m\n",
      "File \u001b[0;32mpandas/_libs/hashtable_class_helper.pxi:7080\u001b[0m, in \u001b[0;36mpandas._libs.hashtable.PyObjectHashTable.get_item\u001b[0;34m()\u001b[0m\n",
      "File \u001b[0;32mpandas/_libs/hashtable_class_helper.pxi:7088\u001b[0m, in \u001b[0;36mpandas._libs.hashtable.PyObjectHashTable.get_item\u001b[0;34m()\u001b[0m\n",
      "\u001b[0;31mKeyError\u001b[0m: 'Score'",
      "\nThe above exception was the direct cause of the following exception:\n",
      "\u001b[0;31mKeyError\u001b[0m                                  Traceback (most recent call last)",
      "Cell \u001b[0;32mIn[48], line 2\u001b[0m\n\u001b[1;32m      1\u001b[0m \u001b[38;5;66;03m# Calculate the IQR (Interquartile Range) to identify outliers\u001b[39;00m\n\u001b[0;32m----> 2\u001b[0m Q1 \u001b[38;5;241m=\u001b[39m \u001b[43mdf\u001b[49m\u001b[43m[\u001b[49m\u001b[38;5;124;43m'\u001b[39;49m\u001b[38;5;124;43mScore\u001b[39;49m\u001b[38;5;124;43m'\u001b[39;49m\u001b[43m]\u001b[49m\u001b[38;5;241m.\u001b[39mquantile(\u001b[38;5;241m0.25\u001b[39m)\n\u001b[1;32m      3\u001b[0m Q3 \u001b[38;5;241m=\u001b[39m df[\u001b[38;5;124m'\u001b[39m\u001b[38;5;124mScore\u001b[39m\u001b[38;5;124m'\u001b[39m]\u001b[38;5;241m.\u001b[39mquantile(\u001b[38;5;241m0.75\u001b[39m)\n\u001b[1;32m      4\u001b[0m IQR \u001b[38;5;241m=\u001b[39m Q3 \u001b[38;5;241m-\u001b[39m Q1\n",
      "File \u001b[0;32m~/.local/lib/python3.10/site-packages/pandas/core/frame.py:3893\u001b[0m, in \u001b[0;36mDataFrame.__getitem__\u001b[0;34m(self, key)\u001b[0m\n\u001b[1;32m   3891\u001b[0m \u001b[38;5;28;01mif\u001b[39;00m \u001b[38;5;28mself\u001b[39m\u001b[38;5;241m.\u001b[39mcolumns\u001b[38;5;241m.\u001b[39mnlevels \u001b[38;5;241m>\u001b[39m \u001b[38;5;241m1\u001b[39m:\n\u001b[1;32m   3892\u001b[0m     \u001b[38;5;28;01mreturn\u001b[39;00m \u001b[38;5;28mself\u001b[39m\u001b[38;5;241m.\u001b[39m_getitem_multilevel(key)\n\u001b[0;32m-> 3893\u001b[0m indexer \u001b[38;5;241m=\u001b[39m \u001b[38;5;28;43mself\u001b[39;49m\u001b[38;5;241;43m.\u001b[39;49m\u001b[43mcolumns\u001b[49m\u001b[38;5;241;43m.\u001b[39;49m\u001b[43mget_loc\u001b[49m\u001b[43m(\u001b[49m\u001b[43mkey\u001b[49m\u001b[43m)\u001b[49m\n\u001b[1;32m   3894\u001b[0m \u001b[38;5;28;01mif\u001b[39;00m is_integer(indexer):\n\u001b[1;32m   3895\u001b[0m     indexer \u001b[38;5;241m=\u001b[39m [indexer]\n",
      "File \u001b[0;32m~/.local/lib/python3.10/site-packages/pandas/core/indexes/base.py:3798\u001b[0m, in \u001b[0;36mIndex.get_loc\u001b[0;34m(self, key)\u001b[0m\n\u001b[1;32m   3793\u001b[0m     \u001b[38;5;28;01mif\u001b[39;00m \u001b[38;5;28misinstance\u001b[39m(casted_key, \u001b[38;5;28mslice\u001b[39m) \u001b[38;5;129;01mor\u001b[39;00m (\n\u001b[1;32m   3794\u001b[0m         \u001b[38;5;28misinstance\u001b[39m(casted_key, abc\u001b[38;5;241m.\u001b[39mIterable)\n\u001b[1;32m   3795\u001b[0m         \u001b[38;5;129;01mand\u001b[39;00m \u001b[38;5;28many\u001b[39m(\u001b[38;5;28misinstance\u001b[39m(x, \u001b[38;5;28mslice\u001b[39m) \u001b[38;5;28;01mfor\u001b[39;00m x \u001b[38;5;129;01min\u001b[39;00m casted_key)\n\u001b[1;32m   3796\u001b[0m     ):\n\u001b[1;32m   3797\u001b[0m         \u001b[38;5;28;01mraise\u001b[39;00m InvalidIndexError(key)\n\u001b[0;32m-> 3798\u001b[0m     \u001b[38;5;28;01mraise\u001b[39;00m \u001b[38;5;167;01mKeyError\u001b[39;00m(key) \u001b[38;5;28;01mfrom\u001b[39;00m\u001b[38;5;250m \u001b[39m\u001b[38;5;21;01merr\u001b[39;00m\n\u001b[1;32m   3799\u001b[0m \u001b[38;5;28;01mexcept\u001b[39;00m \u001b[38;5;167;01mTypeError\u001b[39;00m:\n\u001b[1;32m   3800\u001b[0m     \u001b[38;5;66;03m# If we have a listlike key, _check_indexing_error will raise\u001b[39;00m\n\u001b[1;32m   3801\u001b[0m     \u001b[38;5;66;03m#  InvalidIndexError. Otherwise we fall through and re-raise\u001b[39;00m\n\u001b[1;32m   3802\u001b[0m     \u001b[38;5;66;03m#  the TypeError.\u001b[39;00m\n\u001b[1;32m   3803\u001b[0m     \u001b[38;5;28mself\u001b[39m\u001b[38;5;241m.\u001b[39m_check_indexing_error(key)\n",
      "\u001b[0;31mKeyError\u001b[0m: 'Score'"
     ]
    }
   ],
   "source": [
    "# Calculate the IQR (Interquartile Range) to identify outliers\n",
    "Q1 = df['Score'].quantile(0.25)\n",
    "Q3 = df['Score'].quantile(0.75)\n",
    "IQR = Q3 - Q1\n",
    "\n",
    "# Define the bounds for outliers\n",
    "lower_bound = Q1 - 1.5 * IQR\n",
    "upper_bound = Q3 + 1.5 * IQR\n",
    "\n",
    "# Remove outliers\n",
    "df_no_outliers = df[(df['Score'] >= lower_bound) & (df['Score'] <= upper_bound)]\n",
    "\n",
    "print(\"\\nData after Removing Outliers:\")\n",
    "print(df_no_outliers)\n",
    "\n",
    "# Visualize the dataset again using a boxplot\n",
    "plt.figure(figsize=(8, 5))\n",
    "plt.boxplot(df_no_outliers['Score'], vert=False)\n",
    "plt.title('Boxplot of Scores After Removing Outliers')\n",
    "plt.xlabel('Score')\n",
    "plt.show()\n"
   ]
  }
 ],
 "metadata": {
  "kernelspec": {
   "display_name": "Python 3",
   "language": "python",
   "name": "python3"
  },
  "language_info": {
   "codemirror_mode": {
    "name": "ipython",
    "version": 3
   },
   "file_extension": ".py",
   "mimetype": "text/x-python",
   "name": "python",
   "nbconvert_exporter": "python",
   "pygments_lexer": "ipython3",
   "version": "3.10.12"
  }
 },
 "nbformat": 4,
 "nbformat_minor": 2
}
