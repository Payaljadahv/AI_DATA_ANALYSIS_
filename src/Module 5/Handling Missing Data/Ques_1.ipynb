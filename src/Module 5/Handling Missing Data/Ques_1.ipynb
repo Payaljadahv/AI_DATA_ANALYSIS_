{
 "cells": [
  {
   "cell_type": "code",
   "execution_count": 156,
   "metadata": {},
   "outputs": [],
   "source": [
    "# Question: Introduction to Missing Data in a DataFrame\n",
    "# Description: Load a simple CSV file into a DataFrame and identify missing values.\n",
    "\n",
    "# Steps to follow:\n",
    "# 1. Load the data: Use the pandas library to read a CSV file.\n",
    "# 2. Check for missing values: Use the isnull() method to find missing values.\n",
    "# 3. Summarize missing data: Use the sum() function to count the number of missing values in each column.\n",
    "\n"
   ]
  },
  {
   "cell_type": "code",
   "execution_count": 157,
   "metadata": {},
   "outputs": [
    {
     "name": "stdout",
     "output_type": "stream",
     "text": [
      "Missing values per column:\n",
      "Name    1\n",
      "Age     1\n",
      "City    1\n",
      "dtype: int64\n"
     ]
    }
   ],
   "source": [
    "import pandas as pd\n",
    "\n",
    "# Create a sample dataframe with missing values\n",
    "data = {\n",
    "    'Name': ['Alice', 'Bob', 'Charlie', None, 'Edward'],\n",
    "    'Age': [25, 30, None, 22, 40],\n",
    "    'City': ['New York', None, 'Los Angeles', 'Chicago', 'Houston']\n",
    "}\n",
    "\n",
    "df = pd.DataFrame(data)\n",
    "\n",
    "# Save this dataframe as a CSV file\n",
    "df.to_csv('sample_data.csv', index=False)\n",
    "\n",
    "# Now load the CSV back (simulating your file)\n",
    "df_loaded = pd.read_csv('sample_data.csv')\n",
    "\n",
    "# Detect missing values\n",
    "print(\"Missing values per column:\")\n",
    "print(df_loaded.isnull().sum())\n"
   ]
  },
  {
   "cell_type": "code",
   "execution_count": 158,
   "metadata": {},
   "outputs": [],
   "source": [
    "# Question: Dropping Rows with Missing Values\n",
    "# Description: Practice the deletion method by removing rows with any missing values from a dataset.\n",
    "\n",
    "# Steps to follow:\n",
    "# 1. Use dropna() method: Use the dropna() method to remove rows with missing values."
   ]
  },
  {
   "cell_type": "code",
   "execution_count": 159,
   "metadata": {},
   "outputs": [
    {
     "name": "stdout",
     "output_type": "stream",
     "text": [
      "Original DataFrame:\n",
      "    Name   Age         City\n",
      "0  Alice  25.0     New York\n",
      "1    Bob   NaN  Los Angeles\n",
      "2   None  30.0      Chicago\n",
      "3  David  22.0         None\n",
      "\n",
      "DataFrame after dropping rows with missing values:\n",
      "    Name   Age      City\n",
      "0  Alice  25.0  New York\n"
     ]
    }
   ],
   "source": [
    "import pandas as pd\n",
    "\n",
    "# Sample data with missing values\n",
    "data = {\n",
    "    'Name': ['Alice', 'Bob', None, 'David'],\n",
    "    'Age': [25, None, 30, 22],\n",
    "    'City': ['New York', 'Los Angeles', 'Chicago', None]\n",
    "}\n",
    "\n",
    "df = pd.DataFrame(data)\n",
    "\n",
    "print(\"Original DataFrame:\")\n",
    "print(df)\n",
    "\n",
    "# Step 1: Drop rows with any missing values\n",
    "df_dropped = df.dropna()\n",
    "\n",
    "print(\"\\nDataFrame after dropping rows with missing values:\")\n",
    "print(df_dropped)\n"
   ]
  },
  {
   "cell_type": "code",
   "execution_count": 160,
   "metadata": {},
   "outputs": [],
   "source": [
    "# Question: Dropping Columns with Missing Values\n",
    "# Description: Practice deleting entire columns that contain missing values.\n",
    "\n",
    "# Steps to follow:\n",
    "# 1. Use dropna() with axis parameter: Set axis=1 in dropna() to remove columns with missing values.\n",
    "\n"
   ]
  },
  {
   "cell_type": "code",
   "execution_count": 161,
   "metadata": {},
   "outputs": [
    {
     "name": "stdout",
     "output_type": "stream",
     "text": [
      "Original DataFrame:\n",
      "    Name   Age         City\n",
      "0  Alice  25.0     New York\n",
      "1    Bob   NaN  Los Angeles\n",
      "2   None  30.0      Chicago\n",
      "3  David  22.0         None\n",
      "\n",
      "DataFrame after dropping columns with missing values:\n",
      "Empty DataFrame\n",
      "Columns: []\n",
      "Index: [0, 1, 2, 3]\n"
     ]
    }
   ],
   "source": [
    "import pandas as pd\n",
    "\n",
    "# Sample data with missing values\n",
    "data = {\n",
    "    'Name': ['Alice', 'Bob', None, 'David'],\n",
    "    'Age': [25, None, 30, 22],\n",
    "    'City': ['New York', 'Los Angeles', 'Chicago', None]\n",
    "}\n",
    "\n",
    "df = pd.DataFrame(data)\n",
    "\n",
    "print(\"Original DataFrame:\")\n",
    "print(df)\n",
    "\n",
    "# Step 1: Drop columns with any missing values\n",
    "df_dropped_cols = df.dropna(axis=1)\n",
    "\n",
    "print(\"\\nDataFrame after dropping columns with missing values:\")\n",
    "print(df_dropped_cols)\n"
   ]
  },
  {
   "cell_type": "code",
   "execution_count": 162,
   "metadata": {},
   "outputs": [],
   "source": [
    "# Question: Mean Imputation for Numerical Data\n",
    "# Description: Fill missing values in a numerical column with the mean of that column.\n",
    "\n",
    "# Steps to follow:\n",
    "# 1. Calculate mean and fill NA: Use mean() to calculate and fillna() to fill the missing values.\n",
    "\n"
   ]
  },
  {
   "cell_type": "code",
   "execution_count": 163,
   "metadata": {},
   "outputs": [
    {
     "name": "stdout",
     "output_type": "stream",
     "text": [
      "Original DataFrame:\n",
      "    Age   Salary\n",
      "0  25.0  50000.0\n",
      "1   NaN  60000.0\n",
      "2  30.0      NaN\n",
      "3  22.0  52000.0\n",
      "4   NaN  58000.0\n",
      "\n",
      "DataFrame after mean imputation on 'Age':\n",
      "         Age   Salary\n",
      "0  25.000000  50000.0\n",
      "1  25.666667  60000.0\n",
      "2  30.000000      NaN\n",
      "3  22.000000  52000.0\n",
      "4  25.666667  58000.0\n"
     ]
    }
   ],
   "source": [
    "import pandas as pd\n",
    "\n",
    "# Sample data with missing numerical values\n",
    "data = {\n",
    "    'Age': [25, None, 30, 22, None],\n",
    "    'Salary': [50000, 60000, None, 52000, 58000]\n",
    "}\n",
    "\n",
    "df = pd.DataFrame(data)\n",
    "\n",
    "print(\"Original DataFrame:\")\n",
    "print(df)\n",
    "\n",
    "# Step 1: Calculate the mean of the 'Age' column (ignoring missing values)\n",
    "mean_age = df['Age'].mean()\n",
    "\n",
    "# Step 2: Fill missing values in 'Age' column with the mean\n",
    "df['Age'] = df['Age'].fillna(mean_age)\n",
    "\n",
    "print(\"\\nDataFrame after mean imputation on 'Age':\")\n",
    "print(df)\n"
   ]
  },
  {
   "cell_type": "code",
   "execution_count": 164,
   "metadata": {},
   "outputs": [],
   "source": [
    "# Question: Mode Imputation for Categorical Data\n",
    "# Description: Fill missing values in a categorical column with the mode of that column.\n",
    "\n",
    "# Steps to follow:\n",
    "# 1. Calculate mode and fill NA: Use mode() to find the most frequent value and fillna() to fill the missing values.\n",
    "\n"
   ]
  },
  {
   "cell_type": "code",
   "execution_count": 165,
   "metadata": {},
   "outputs": [
    {
     "name": "stdout",
     "output_type": "stream",
     "text": [
      "Original DataFrame:\n",
      "          City\n",
      "0     New York\n",
      "1  Los Angeles\n",
      "2         None\n",
      "3      Chicago\n",
      "4  Los Angeles\n",
      "5         None\n",
      "\n",
      "DataFrame after mode imputation on 'City':\n",
      "          City\n",
      "0     New York\n",
      "1  Los Angeles\n",
      "2  Los Angeles\n",
      "3      Chicago\n",
      "4  Los Angeles\n",
      "5  Los Angeles\n"
     ]
    }
   ],
   "source": [
    "import pandas as pd\n",
    "\n",
    "# Sample data with missing categorical values\n",
    "data = {\n",
    "    'City': ['New York', 'Los Angeles', None, 'Chicago', 'Los Angeles', None]\n",
    "}\n",
    "\n",
    "df = pd.DataFrame(data)\n",
    "\n",
    "print(\"Original DataFrame:\")\n",
    "print(df)\n",
    "\n",
    "# Step 1: Calculate the mode of the 'City' column\n",
    "mode_city = df['City'].mode()[0]  # mode() returns a Series, take the first value\n",
    "\n",
    "# Step 2: Fill missing values in 'City' column with the mode\n",
    "df['City'] = df['City'].fillna(mode_city)\n",
    "\n",
    "print(\"\\nDataFrame after mode imputation on 'City':\")\n",
    "print(df)\n"
   ]
  },
  {
   "cell_type": "code",
   "execution_count": 166,
   "metadata": {},
   "outputs": [],
   "source": [
    "# Question: Median Imputation for Skewed Data\n",
    "# Description: Handle missing values in columns with a skewed distribution using the median.\n",
    "\n",
    "# Steps to follow:\n",
    "# 1. Calculate median and fill NA: Use median() for skewed data and fillna() to handle missing values.\n",
    "\n"
   ]
  },
  {
   "cell_type": "code",
   "execution_count": 167,
   "metadata": {},
   "outputs": [
    {
     "name": "stdout",
     "output_type": "stream",
     "text": [
      "Original DataFrame:\n",
      "     Income\n",
      "0   30000.0\n",
      "1   40000.0\n",
      "2  250000.0\n",
      "3       NaN\n",
      "4   32000.0\n",
      "5       NaN\n",
      "6   35000.0\n",
      "\n",
      "DataFrame after median imputation on 'Income':\n",
      "     Income\n",
      "0   30000.0\n",
      "1   40000.0\n",
      "2  250000.0\n",
      "3   35000.0\n",
      "4   32000.0\n",
      "5   35000.0\n",
      "6   35000.0\n"
     ]
    }
   ],
   "source": [
    "import pandas as pd\n",
    "\n",
    "# Sample data with missing values and skewed distribution\n",
    "data = {\n",
    "    'Income': [30000, 40000, 250000, None, 32000, None, 35000]\n",
    "}\n",
    "\n",
    "df = pd.DataFrame(data)\n",
    "\n",
    "print(\"Original DataFrame:\")\n",
    "print(df)\n",
    "\n",
    "# Step 1: Calculate median of the 'Income' column\n",
    "median_income = df['Income'].median()\n",
    "\n",
    "# Step 2: Fill missing values in 'Income' column with the median\n",
    "df['Income'] = df['Income'].fillna(median_income)\n",
    "\n",
    "print(\"\\nDataFrame after median imputation on 'Income':\")\n",
    "print(df)\n"
   ]
  },
  {
   "cell_type": "code",
   "execution_count": 168,
   "metadata": {},
   "outputs": [],
   "source": [
    "# Question: KNN Imputation\n",
    "# Description: Use K-Nearest Neighbors to impute missing values in a dataset.\n",
    "\n",
    "# Steps to follow:\n",
    "# 1. Install and import required libraries: Use pip install sklearn if not already installed.\n",
    "# 2. KNN Imputer: Use KNNImputer to fill in missing values.\n",
    "\n"
   ]
  },
  {
   "cell_type": "code",
   "execution_count": 169,
   "metadata": {},
   "outputs": [
    {
     "name": "stdout",
     "output_type": "stream",
     "text": [
      "Original DataFrame:\n",
      "   Feature1  Feature2  Feature3\n",
      "0       1.0       5.0      10.0\n",
      "1       2.0       NaN      15.0\n",
      "2       NaN       7.0      14.0\n",
      "3       4.0       8.0       NaN\n",
      "4       5.0      10.0      18.0\n",
      "\n",
      "DataFrame after KNN imputation:\n",
      "   Feature1  Feature2  Feature3\n",
      "0       1.0       5.0      10.0\n",
      "1       2.0       7.5      15.0\n",
      "2       3.0       7.0      14.0\n",
      "3       4.0       8.0      16.0\n",
      "4       5.0      10.0      18.0\n"
     ]
    }
   ],
   "source": [
    "import pandas as pd\n",
    "from sklearn.impute import KNNImputer\n",
    "\n",
    "# Sample data with missing values\n",
    "data = {\n",
    "    'Feature1': [1.0, 2.0, None, 4.0, 5.0],\n",
    "    'Feature2': [5.0, None, 7.0, 8.0, 10.0],\n",
    "    'Feature3': [10.0, 15.0, 14.0, None, 18.0]\n",
    "}\n",
    "\n",
    "df = pd.DataFrame(data)\n",
    "print(\"Original DataFrame:\")\n",
    "print(df)\n",
    "\n",
    "# Step 1: Initialize the KNN imputer (default n_neighbors=5)\n",
    "imputer = KNNImputer(n_neighbors=2)\n",
    "\n",
    "# Step 2: Fit and transform the data to fill missing values\n",
    "df_imputed = pd.DataFrame(imputer.fit_transform(df), columns=df.columns)\n",
    "\n",
    "print(\"\\nDataFrame after KNN imputation:\")\n",
    "print(df_imputed)\n"
   ]
  },
  {
   "cell_type": "code",
   "execution_count": 170,
   "metadata": {},
   "outputs": [],
   "source": [
    "# Question: Detecting and Handling Missing Categorical Data\n",
    "# Description: Detect missing categorical data and handle it by filling with the next frequent category.\n",
    "\n",
    "# Steps to follow:\n",
    "# 1. Identify missing values in categorical data: Use the isnull() method on categorical columns.\n",
    "# 2. Impute with next frequent category: Use the mode() method to choose the next frequent category.\n",
    "\n"
   ]
  },
  {
   "cell_type": "code",
   "execution_count": 171,
   "metadata": {},
   "outputs": [
    {
     "name": "stdout",
     "output_type": "stream",
     "text": [
      "Missing values in 'Category' column:\n",
      "0    False\n",
      "1    False\n",
      "2    False\n",
      "3     True\n",
      "4    False\n",
      "5    False\n",
      "6     True\n",
      "7    False\n",
      "Name: Category, dtype: bool\n",
      "\n",
      "Value counts:\n",
      "Category\n",
      "Banana    3\n",
      "Apple     2\n",
      "Orange    1\n",
      "Name: count, dtype: int64\n",
      "\n",
      "DataFrame after imputation:\n",
      "  Category\n",
      "0    Apple\n",
      "1   Banana\n",
      "2    Apple\n",
      "3    Apple\n",
      "4   Orange\n",
      "5   Banana\n",
      "6    Apple\n",
      "7   Banana\n"
     ]
    }
   ],
   "source": [
    "import pandas as pd\n",
    "\n",
    "# Sample dataset with missing categorical data\n",
    "data = {\n",
    "    'Category': ['Apple', 'Banana', 'Apple', None, 'Orange', 'Banana', None, 'Banana']\n",
    "}\n",
    "\n",
    "df = pd.DataFrame(data)\n",
    "\n",
    "# Step 1: Identify missing values in the categorical column\n",
    "missing = df['Category'].isnull()\n",
    "print(\"Missing values in 'Category' column:\")\n",
    "print(missing)\n",
    "\n",
    "# Step 2: Impute with the next most frequent category (2nd mode)\n",
    "value_counts = df['Category'].value_counts()\n",
    "print(\"\\nValue counts:\")\n",
    "print(value_counts)\n",
    "\n",
    "if len(value_counts) > 1:\n",
    "    second_most_common = value_counts.index[1]  # second most frequent\n",
    "else:\n",
    "    second_most_common = value_counts.index[0]  # fallback to most frequent\n",
    "\n",
    "# Fill missing values\n",
    "df['Category'].fillna(second_most_common, inplace=True)\n",
    "\n",
    "print(\"\\nDataFrame after imputation:\")\n",
    "print(df)\n"
   ]
  },
  {
   "cell_type": "code",
   "execution_count": null,
   "metadata": {},
   "outputs": [],
   "source": []
  },
  {
   "cell_type": "code",
   "execution_count": 172,
   "metadata": {},
   "outputs": [],
   "source": [
    "# Question: Predictive Modeling for Imputation\n",
    "# Description: Use a predictive model to impute missing values for a particular feature using other features.\n",
    "\n",
    "# Steps to follow:\n",
    "# 1. Partition the data: Split the dataset into train and test based on the presence of missing values.\n",
    "# 2. Train a model: Use a regression model to predict missing values.\n",
    "# 3. Impute missing values with predictions.\n",
    "\n",
    "\n"
   ]
  },
  {
   "cell_type": "code",
   "execution_count": 173,
   "metadata": {},
   "outputs": [
    {
     "name": "stdout",
     "output_type": "stream",
     "text": [
      "DataFrame after predictive imputation:\n",
      "   Salary  EducationLevel        Age\n",
      "0   50000               1  25.000000\n",
      "1   60000               2  30.000000\n",
      "2   52000               1  22.931034\n",
      "3   58000               2  28.000000\n",
      "4   61000               3  35.000000\n",
      "5   57000               2  29.982759\n",
      "6   62000               3  40.000000\n",
      "7   49000               1  22.000000\n"
     ]
    }
   ],
   "source": [
    "import pandas as pd\n",
    "import numpy as np\n",
    "from sklearn.linear_model import LinearRegression\n",
    "\n",
    "# Sample dataset\n",
    "data = {\n",
    "    'Salary': [50000, 60000, 52000, 58000, 61000, 57000, 62000, 49000],\n",
    "    'EducationLevel': [1, 2, 1, 2, 3, 2, 3, 1],\n",
    "    'Age': [25, 30, np.nan, 28, 35, np.nan, 40, 22]\n",
    "}\n",
    "df = pd.DataFrame(data)\n",
    "\n",
    "# Step 1: Partition the data\n",
    "df_known = df[df['Age'].notnull()]\n",
    "df_missing = df[df['Age'].isnull()]\n",
    "\n",
    "# Features and target\n",
    "X_train = df_known.drop('Age', axis=1)\n",
    "y_train = df_known['Age']\n",
    "X_missing = df_missing.drop('Age', axis=1)\n",
    "\n",
    "# Step 2: Train a regression model\n",
    "model = LinearRegression()\n",
    "model.fit(X_train, y_train)\n",
    "\n",
    "# Step 3: Predict and impute missing values\n",
    "predicted_ages = model.predict(X_missing)\n",
    "df.loc[df['Age'].isnull(), 'Age'] = predicted_ages\n",
    "\n",
    "# Final DataFrame after imputation\n",
    "print(\"DataFrame after predictive imputation:\")\n",
    "print(df)\n"
   ]
  },
  {
   "cell_type": "code",
   "execution_count": 174,
   "metadata": {},
   "outputs": [],
   "source": [
    "# Question: Handling Time Series Data with Forward and Backward Fill\n",
    "# Description: Impute missing values in a time series dataset using forward and backward fill methods.\n",
    "\n",
    "# Steps to follow:\n",
    "# 1. Sort the data: Ensure the dataset is sorted by dates.\n",
    "# 2. Use fillna() with method parameter: Apply ffill() and bfill() for forward and backward fill.\n",
    "\n"
   ]
  },
  {
   "cell_type": "code",
   "execution_count": null,
   "metadata": {},
   "outputs": [
    {
     "name": "stdout",
     "output_type": "stream",
     "text": [
      "        Date  Value  Value_ffill  Value_bfill  Value_combined\n",
      "0 2024-01-01   10.0         10.0         10.0            10.0\n",
      "1 2024-01-02    NaN         10.0         40.0            10.0\n",
      "2 2024-01-03    NaN         10.0         40.0            10.0\n",
      "3 2024-01-04   40.0         40.0         40.0            40.0\n",
      "4 2024-01-05   50.0         50.0         50.0            50.0\n",
      "5 2024-01-06    NaN         50.0         70.0            50.0\n",
      "6 2024-01-07   70.0         70.0         70.0            70.0\n",
      "7 2024-01-08    NaN         70.0        100.0            70.0\n",
      "8 2024-01-09    NaN         70.0        100.0            70.0\n",
      "9 2024-01-10  100.0        100.0        100.0           100.0\n"
     ]
    },
    {
     "name": "stderr",
     "output_type": "stream",
     "text": [
      "/tmp/ipykernel_39824/3764562407.py:15: FutureWarning: Series.fillna with 'method' is deprecated and will raise in a future version. Use obj.ffill() or obj.bfill() instead.\n",
      "  df['Value_ffill'] = df['Value'].fillna(method='ffill')\n",
      "/tmp/ipykernel_39824/3764562407.py:18: FutureWarning: Series.fillna with 'method' is deprecated and will raise in a future version. Use obj.ffill() or obj.bfill() instead.\n",
      "  df['Value_bfill'] = df['Value'].fillna(method='bfill')\n",
      "/tmp/ipykernel_39824/3764562407.py:21: FutureWarning: Series.fillna with 'method' is deprecated and will raise in a future version. Use obj.ffill() or obj.bfill() instead.\n",
      "  df['Value_combined'] = df['Value'].fillna(method='ffill').fillna(method='bfill')\n"
     ]
    }
   ],
   "source": [
    "import pandas as pd\n",
    "import numpy as np\n",
    "\n",
    "# Sample time series data with missing values\n",
    "data = {\n",
    "    'Date': pd.date_range(start='2024-01-01', periods=10, freq='D'),\n",
    "    'Value': [10, np.nan, np.nan, 40, 50, np.nan, 70, np.nan, np.nan, 100]\n",
    "}\n",
    "df = pd.DataFrame(data)\n",
    "\n",
    "# Step 1: Sort the data by Date\n",
    "df = df.sort_values('Date')\n",
    "\n",
    "# Step 2: Forward fill\n",
    "df['Value_ffill'] = df['Value'].fillna(method='ffill')\n",
    "\n",
    "# Step 3: Backward fill\n",
    "df['Value_bfill'] = df['Value'].fillna(method='bfill')\n",
    "\n",
    "# Step 4: Combine both for more complete fill (optional)\n",
    "df['Value_combined'] = df['Value'].fillna(method='ffill').fillna(method='bfill')\n",
    "\n",
    "# Display result\n",
    "print(df)\n"
   ]
  }
 ],
 "metadata": {
  "kernelspec": {
   "display_name": "Python 3",
   "language": "python",
   "name": "python3"
  },
  "language_info": {
   "codemirror_mode": {
    "name": "ipython",
    "version": 3
   },
   "file_extension": ".py",
   "mimetype": "text/x-python",
   "name": "python",
   "nbconvert_exporter": "python",
   "pygments_lexer": "ipython3",
   "version": "3.10.12"
  }
 },
 "nbformat": 4,
 "nbformat_minor": 2
}
